{
 "cells": [
  {
   "cell_type": "code",
   "execution_count": 2,
   "id": "49fc149a",
   "metadata": {},
   "outputs": [
    {
     "name": "stdout",
     "output_type": "stream",
     "text": [
      "12\n"
     ]
    }
   ],
   "source": [
    "import pandas as pd\n",
    "wikiurl=\"https://en.wikipedia.org/wiki/Gun_laws_in_Alabama\"\n",
    "tables = pd.read_html(wikiurl)\n",
    "dfa=pd.DataFrame(tables[0])\n",
    "dfa = dfa.drop([\"Notes\", \"Relevant Statutes\"], axis=1)\n",
    "dfa['state']='Alabama'\n",
    "def func(row):\n",
    "    if row['Long Guns'] == 'Yes':\n",
    "        return '1'\n",
    "    elif row['Hand Guns'] =='Yes':\n",
    "        return '1' \n",
    "    else:\n",
    "        return '0'\n",
    "\n",
    "dfa['nums'] = dfa.apply(func, axis=1)\n",
    "dfa['nums'] = pd.to_numeric(dfa['nums'])\n",
    "dfa = dfa.drop([\"Subject/Law\", \"Long Guns\",\"Hand Guns\"], axis=1)\n",
    "dfa['state']='Alabama'\n",
    "test=dfa['state'].count() \n",
    "print(test)\n",
    "#dfa.dtypes\n",
    "#print(dfa)"
   ]
  },
  {
   "cell_type": "code",
   "execution_count": 4,
   "id": "055d3f2d",
   "metadata": {},
   "outputs": [
    {
     "name": "stdout",
     "output_type": "stream",
     "text": [
      "12\n"
     ]
    }
   ],
   "source": [
    "wikiurl=\"https://en.wikipedia.org/wiki/Gun_laws_in_Alaska\"\n",
    "tables = pd.read_html(wikiurl)\n",
    "dfb=pd.DataFrame(tables[0])\n",
    "dfb = dfb.drop([\"Notes\", \"Relevant Statutes\"], axis=1)\n",
    "dfb['state']='Alaska'\n",
    "def func(row):\n",
    "    if row['Long Guns'] == 'Yes':\n",
    "        return '1'\n",
    "    elif row['Hand Guns'] =='Yes':\n",
    "        return '1' \n",
    "    else:\n",
    "        return '0'\n",
    "\n",
    "dfb['nums'] = dfb.apply(func, axis=1)\n",
    "dfb['nums'] = pd.to_numeric(dfb['nums'])\n",
    "dfb = dfb.drop([\"Subject/Law\", \"Long Guns\",\"Hand Guns\"], axis=1)\n",
    "dfb['state']='Alaska'\n",
    "##test=dfb['state'].count() --14!\n",
    "print(test)\n",
    "#dfb.dtypes\n",
    "#print(dfb)"
   ]
  },
  {
   "cell_type": "code",
   "execution_count": 5,
   "id": "07f9d8be",
   "metadata": {},
   "outputs": [
    {
     "name": "stdout",
     "output_type": "stream",
     "text": [
      "12\n"
     ]
    }
   ],
   "source": [
    "wikiurl=\"https://en.wikipedia.org/wiki/Gun_laws_in_Arizona\"\n",
    "tables = pd.read_html(wikiurl)\n",
    "dfc=pd.DataFrame(tables[0])\n",
    "dfc = dfc.drop([\"Notes\", \"Relevant Statutes\"], axis=1)\n",
    "dfc['state']='Arizona'\n",
    "def func(row):\n",
    "    if row['Long Guns'] == 'Yes':\n",
    "        return '1'\n",
    "    elif row['Hand Guns'] =='Yes':\n",
    "        return '1' \n",
    "    else:\n",
    "        return '0'\n",
    "\n",
    "dfc['nums'] = dfc.apply(func, axis=1)\n",
    "dfc['nums'] = pd.to_numeric(dfc['nums'])\n",
    "dfc = dfc.drop([\"Subject/Law\", \"Long Guns\",\"Hand Guns\"], axis=1)\n",
    "dfc['state']='Arizona'\n",
    "#test=dfc['state'].count() --13\n",
    "print(test)\n",
    "#dfc.dtypes"
   ]
  },
  {
   "cell_type": "code",
   "execution_count": 6,
   "id": "cc87099e",
   "metadata": {},
   "outputs": [
    {
     "name": "stdout",
     "output_type": "stream",
     "text": [
      "14\n"
     ]
    }
   ],
   "source": [
    "wikiurl=\"https://en.wikipedia.org/wiki/Gun_laws_in_Arkansas\"\n",
    "tables = pd.read_html(wikiurl)\n",
    "dfd=pd.DataFrame(tables[0])\n",
    "dfd = dfd.drop([\"Notes\", \"Relevant Statutes\"], axis=1)\n",
    "dfd['state']='Arkansas'\n",
    "def func(row):\n",
    "    if row['Long Guns'] == 'Yes':\n",
    "        return '1'\n",
    "    elif row['Hand Guns'] =='Yes':\n",
    "        return '1' \n",
    "    else:\n",
    "        return '0'\n",
    "\n",
    "dfd['nums'] = dfd.apply(func, axis=1)\n",
    "dfd['nums'] = pd.to_numeric(dfd['nums'])\n",
    "dfd = dfd.drop([\"Subject/Law\", \"Long Guns\",\"Hand Guns\"], axis=1)\n",
    "dfd['state']='Arkansas'\n",
    "test=dfd['state'].count()\n",
    "print(test)\n",
    "#dfd.dtypes"
   ]
  },
  {
   "cell_type": "code",
   "execution_count": 7,
   "id": "e57aebb0",
   "metadata": {},
   "outputs": [
    {
     "name": "stdout",
     "output_type": "stream",
     "text": [
      "17\n"
     ]
    }
   ],
   "source": [
    "wikiurl=\"https://en.wikipedia.org/wiki/Gun_laws_in_California\"\n",
    "tables = pd.read_html(wikiurl)\n",
    "dfe=pd.DataFrame(tables[0])\n",
    "dfe = dfe.drop([\"Notes\", \"Relevant Statutes (Penal Code except when noted)\"], axis=1)\n",
    "dfe['state']='California'\n",
    "def func(row):\n",
    "    if row['Long guns'] == 'Yes':\n",
    "        return '1'\n",
    "    elif row['Handguns'] =='Yes':\n",
    "        return '1' \n",
    "    else:\n",
    "       return '0'\n",
    "\n",
    "dfe['nums'] = dfe.apply(func, axis=1)\n",
    "dfe['nums'] = pd.to_numeric(dfe['nums'])\n",
    "dfe = dfe.drop([\"Subject/Law\", \"Long guns\",\"Handguns\"], axis=1)\n",
    "dfe['state']='California'\n",
    "test=dfe['state'].count()\n",
    "print(test)\n",
    "#dfe.dtypes\n",
    "#dfe"
   ]
  },
  {
   "cell_type": "code",
   "execution_count": 8,
   "id": "99ba48b5",
   "metadata": {},
   "outputs": [
    {
     "name": "stdout",
     "output_type": "stream",
     "text": [
      "15\n"
     ]
    }
   ],
   "source": [
    "wikiurl=\"https://en.wikipedia.org/wiki/Gun_laws_in_Colorado\"\n",
    "tables = pd.read_html(wikiurl)\n",
    "dff=pd.DataFrame(tables[0])\n",
    "dff = dff.drop([\"Notes\", \"Relevant Statutes\"], axis=1)\n",
    "dff['state']='Colorado'\n",
    "def func(row):\n",
    "    if row['Long guns'] == 'Yes':\n",
    "        return '1'\n",
    "    elif row['Handguns'] =='Yes':\n",
    "        return '1' \n",
    "    else:\n",
    "        return '0'\n",
    "\n",
    "dff['nums'] = dff.apply(func, axis=1)\n",
    "dff['nums'] = pd.to_numeric(dff['nums'])\n",
    "dff = dff.drop([\"Subject/Law\", \"Long guns\",\"Handguns\"], axis=1)\n",
    "dff['state']='Colorado'\n",
    "test=dff['state'].count()\n",
    "print(test)\n",
    "#dff\n",
    "#dff.dtypes"
   ]
  },
  {
   "cell_type": "code",
   "execution_count": 9,
   "id": "d94102ed",
   "metadata": {},
   "outputs": [
    {
     "name": "stdout",
     "output_type": "stream",
     "text": [
      "15\n"
     ]
    }
   ],
   "source": [
    "wikiurl=\"https://en.wikipedia.org/wiki/Gun_laws_in_Connecticut\"\n",
    "tables = pd.read_html(wikiurl)\n",
    "dfg=pd.DataFrame(tables[0])\n",
    "dfg = dfg.drop([\"Notes\", \"Relevant statutes\"], axis=1)\n",
    "dfg['state']='Connecticut'\n",
    "def func(row):\n",
    "    if row['Long guns'] == 'Yes':\n",
    "        return '1'\n",
    "    elif row['Handguns'] =='Yes':\n",
    "        return '1' \n",
    "    else:\n",
    "        return '0'\n",
    "\n",
    "dfg['nums'] = dfg.apply(func, axis=1)\n",
    "dfg['nums'] = pd.to_numeric(dfg['nums'])\n",
    "dfg = dfg.drop([\"Subject/Law\", \"Long guns\",\"Handguns\"], axis=1)\n",
    "dfg['state']='Connecticut'\n",
    "test=dfg['state'].count()\n",
    "print(test)\n",
    "#dfg.dtypes"
   ]
  },
  {
   "cell_type": "code",
   "execution_count": 10,
   "id": "c45b9e61",
   "metadata": {},
   "outputs": [
    {
     "name": "stdout",
     "output_type": "stream",
     "text": [
      "12\n"
     ]
    }
   ],
   "source": [
    "wikiurl=\"https://en.wikipedia.org/wiki/Gun_laws_in_Delaware\"\n",
    "tables = pd.read_html(wikiurl)\n",
    "dfh=pd.DataFrame(tables[0])\n",
    "dfh = dfh.drop([\"Notes\", \"Relevant statutes\"], axis=1)\n",
    "dfh['state']='Delaware'\n",
    "def func(row):\n",
    "    if row['Long guns'] == 'Yes':\n",
    "        return '1'\n",
    "    elif row['Handguns'] =='Yes':\n",
    "        return '1' \n",
    "    else:\n",
    "        return '0'\n",
    "\n",
    "dfh['nums'] = dfh.apply(func, axis=1)\n",
    "dfh['nums'] = pd.to_numeric(dfh['nums'])\n",
    "dfh = dfh.drop([\"Subject/Law\", \"Long guns\",\"Handguns\"], axis=1)\n",
    "dfh['state']='Delaware'\n",
    "test=dfh['state'].count()\n",
    "print(test)\n",
    "#dfh.dtypes"
   ]
  },
  {
   "cell_type": "code",
   "execution_count": 11,
   "id": "c2fdb80c",
   "metadata": {},
   "outputs": [
    {
     "name": "stdout",
     "output_type": "stream",
     "text": [
      "15\n"
     ]
    }
   ],
   "source": [
    "wikiurl=\"https://en.wikipedia.org/wiki/Gun_laws_in_Florida\"\n",
    "tables = pd.read_html(wikiurl)\n",
    "dfi=pd.DataFrame(tables[0])\n",
    "dfi = dfi.drop([\"Notes\", \"Relevant Statutes\"], axis=1)\n",
    "dfi['state']='Florida'\n",
    "def func(row):\n",
    "    if row['Long Guns'] == 'Yes':\n",
    "        return '1'\n",
    "    elif row['Hand Guns'] =='Yes':\n",
    "        return '1' \n",
    "    else:\n",
    "        return '0'\n",
    "\n",
    "dfi['nums'] = dfi.apply(func, axis=1)\n",
    "dfi['nums'] = pd.to_numeric(dfi['nums'])\n",
    "dfi = dfi.drop([\"Subject/Law\", \"Long Guns\",\"Hand Guns\"], axis=1)\n",
    "dfi['state']='Florida'\n",
    "test=dfi['state'].count()\n",
    "print(test)\n",
    "#dfi.dtypes"
   ]
  },
  {
   "cell_type": "code",
   "execution_count": 12,
   "id": "e99f1667",
   "metadata": {},
   "outputs": [
    {
     "name": "stdout",
     "output_type": "stream",
     "text": [
      "12\n"
     ]
    }
   ],
   "source": [
    "wikiurl=\"https://en.wikipedia.org/wiki/Gun_laws_in_Georgia\"\n",
    "tables = pd.read_html(wikiurl)\n",
    "dfj=pd.DataFrame(tables[0])\n",
    "dfj = dfj.drop([\"Notes\", \"Relevant Statutes\"], axis=1)\n",
    "dfj['state']='Georgia'\n",
    "def func(row):\n",
    "    if row['Long Guns'] == 'Yes':\n",
    "        return '1'\n",
    "    elif row['Hand Guns'] =='Yes':\n",
    "        return '1' \n",
    "    else:\n",
    "        return '0'\n",
    "\n",
    "dfj['nums'] = dfj.apply(func, axis=1)\n",
    "dfj['nums'] = pd.to_numeric(dfj['nums'])\n",
    "dfj = dfj.drop([\"Subject/Law\", \"Long Guns\",\"Hand Guns\"], axis=1)\n",
    "dfj['state']='Georgia'\n",
    "test=dfj['state'].count()\n",
    "print(test)\n",
    "#dfj.dtypes"
   ]
  },
  {
   "cell_type": "code",
   "execution_count": 13,
   "id": "b31f9d6c",
   "metadata": {},
   "outputs": [
    {
     "data": {
      "text/html": [
       "<div>\n",
       "<style scoped>\n",
       "    .dataframe tbody tr th:only-of-type {\n",
       "        vertical-align: middle;\n",
       "    }\n",
       "\n",
       "    .dataframe tbody tr th {\n",
       "        vertical-align: top;\n",
       "    }\n",
       "\n",
       "    .dataframe thead th {\n",
       "        text-align: right;\n",
       "    }\n",
       "</style>\n",
       "<table border=\"1\" class=\"dataframe\">\n",
       "  <thead>\n",
       "    <tr style=\"text-align: right;\">\n",
       "      <th></th>\n",
       "      <th>state</th>\n",
       "      <th>nums</th>\n",
       "    </tr>\n",
       "  </thead>\n",
       "  <tbody>\n",
       "    <tr>\n",
       "      <th>0</th>\n",
       "      <td>Alabama</td>\n",
       "      <td>0</td>\n",
       "    </tr>\n",
       "    <tr>\n",
       "      <th>1</th>\n",
       "      <td>Alabama</td>\n",
       "      <td>0</td>\n",
       "    </tr>\n",
       "    <tr>\n",
       "      <th>2</th>\n",
       "      <td>Alabama</td>\n",
       "      <td>0</td>\n",
       "    </tr>\n",
       "    <tr>\n",
       "      <th>3</th>\n",
       "      <td>Alabama</td>\n",
       "      <td>0</td>\n",
       "    </tr>\n",
       "    <tr>\n",
       "      <th>4</th>\n",
       "      <td>Alabama</td>\n",
       "      <td>0</td>\n",
       "    </tr>\n",
       "  </tbody>\n",
       "</table>\n",
       "</div>"
      ],
      "text/plain": [
       "     state  nums\n",
       "0  Alabama     0\n",
       "1  Alabama     0\n",
       "2  Alabama     0\n",
       "3  Alabama     0\n",
       "4  Alabama     0"
      ]
     },
     "execution_count": 13,
     "metadata": {},
     "output_type": "execute_result"
    }
   ],
   "source": [
    "#concat the dataframes-part1\n",
    "df1=pd.concat([dfa,dfb,dfc,dfd,dfe,dff,dfg,dfh,dfi,dfj], axis=0)\n",
    "df1.head()"
   ]
  },
  {
   "cell_type": "code",
   "execution_count": 14,
   "id": "81060532",
   "metadata": {},
   "outputs": [
    {
     "name": "stdout",
     "output_type": "stream",
     "text": [
      "13\n"
     ]
    }
   ],
   "source": [
    "wikiurl=\"https://en.wikipedia.org/wiki/Gun_laws_in_Hawaii\"\n",
    "tables = pd.read_html(wikiurl)\n",
    "dfk=pd.DataFrame(tables[0])\n",
    "dfk = dfk.drop([\"Notes\", \"Relevant Statutes\"], axis=1)\n",
    "dfk['state']='Hawaii'\n",
    "def func(row):\n",
    "    if row['Long guns'] == 'Yes':\n",
    "        return '1'\n",
    "    elif row['Handguns'] =='Yes':\n",
    "        return '1' \n",
    "    else:\n",
    "        return '0'\n",
    "\n",
    "dfk['nums'] = dfk.apply(func, axis=1)\n",
    "dfk['nums'] = pd.to_numeric(dfk['nums'])\n",
    "dfk = dfk.drop([\"Subject/Law\", \"Long guns\",\"Handguns\"], axis=1)\n",
    "dfk['state']='Hawaii'\n",
    "test=dfk['state'].count()\n",
    "print(test)\n",
    "#dfk.dtypes"
   ]
  },
  {
   "cell_type": "code",
   "execution_count": 15,
   "id": "d2a1ef99",
   "metadata": {},
   "outputs": [
    {
     "name": "stdout",
     "output_type": "stream",
     "text": [
      "12\n"
     ]
    }
   ],
   "source": [
    "wikiurl=\"https://en.wikipedia.org/wiki/Gun_laws_in_Idaho\"\n",
    "tables = pd.read_html(wikiurl)\n",
    "dfl=pd.DataFrame(tables[0])\n",
    "dfl = dfl.drop([\"Notes\", \"Relevant Statutes\"], axis=1)\n",
    "dfl['state']='Idaho'\n",
    "def func(row):\n",
    "    if row['Long Guns'] == 'Yes':\n",
    "        return '1'\n",
    "    elif row['Hand Guns'] =='Yes':\n",
    "        return '1' \n",
    "    else:\n",
    "        return '0'\n",
    "\n",
    "dfl['nums'] = dfl.apply(func, axis=1)\n",
    "dfl['nums'] = pd.to_numeric(dfl['nums'])\n",
    "dfl = dfl.drop([\"Subject/Law\", \"Long Guns\",\"Hand Guns\"], axis=1)\n",
    "dfl['state']='Idaho'\n",
    "test=dfl['state'].count()\n",
    "print(test)\n",
    "#dfl.dtypes"
   ]
  },
  {
   "cell_type": "code",
   "execution_count": 16,
   "id": "c1554aa7",
   "metadata": {},
   "outputs": [
    {
     "name": "stdout",
     "output_type": "stream",
     "text": [
      "17\n"
     ]
    }
   ],
   "source": [
    "wikiurl=\"https://en.wikipedia.org/wiki/Gun_laws_in_Illinois\"\n",
    "tables = pd.read_html(wikiurl)\n",
    "dfm=pd.DataFrame(tables[0])\n",
    "wikiurl=\"https://en.wikipedia.org/wiki/Gun_laws_in_Illinois\"\n",
    "tables = pd.read_html(wikiurl)\n",
    "dfm=pd.DataFrame(tables[0])\n",
    "dfm = dfm.drop([\"Notes\", \"Relevant statutes\"], axis=1)\n",
    "dfm['state']='Illinois'\n",
    "def func(row):\n",
    "    if row['Long guns'] == 'Yes':\n",
    "        return '1'\n",
    "    elif row['Handguns'] =='Yes':\n",
    "        return '1' \n",
    "    else:\n",
    "        return '0'\n",
    "\n",
    "dfm['nums'] = dfm.apply(func, axis=1)\n",
    "dfm['nums'] = pd.to_numeric(dfm['nums'])\n",
    "dfm = dfm.drop([\"Subject/Law\", \"Long guns\",\"Handguns\"], axis=1)\n",
    "dfm['state']='Illinois'\n",
    "test=dfm['state'].count()\n",
    "print(test)\n",
    "#dfm.dtypes"
   ]
  },
  {
   "cell_type": "code",
   "execution_count": 17,
   "id": "ef2a4dd1",
   "metadata": {},
   "outputs": [
    {
     "name": "stdout",
     "output_type": "stream",
     "text": [
      "14\n"
     ]
    }
   ],
   "source": [
    "wikiurl=\"https://en.wikipedia.org/wiki/Gun_laws_in_Indiana\"\n",
    "tables = pd.read_html(wikiurl)\n",
    "dfn=pd.DataFrame(tables[1]) #not at index 0\n",
    "dfn = dfn.drop([\"Notes\", \"Relevant Statutes\"], axis=1)\n",
    "dfn['state']='Indiana'\n",
    "def func(row):\n",
    "    if row['Long Guns'] == 'Yes':\n",
    "        return '1'\n",
    "    elif row['Hand Guns'] =='Yes':\n",
    "        return '1' \n",
    "    else:\n",
    "        return '0'\n",
    "\n",
    "dfn['nums'] = dfn.apply(func, axis=1)\n",
    "dfn['nums'] = pd.to_numeric(dfn['nums'])\n",
    "dfn = dfn.drop([\"Subject/Law\", \"Long Guns\",\"Hand Guns\"], axis=1)\n",
    "dfn['state']='Indiana'\n",
    "test=dfn['state'].count()\n",
    "print(test)\n",
    "#dfn.dtypes"
   ]
  },
  {
   "cell_type": "code",
   "execution_count": 18,
   "id": "bb45b2cf",
   "metadata": {},
   "outputs": [
    {
     "name": "stdout",
     "output_type": "stream",
     "text": [
      "14\n"
     ]
    }
   ],
   "source": [
    "wikiurl=\"https://en.wikipedia.org/wiki/Gun_laws_in_Iowa\"\n",
    "tables = pd.read_html(wikiurl)\n",
    "dfo=pd.DataFrame(tables[0])\n",
    "dfo = dfo.drop([\"Notes\", \"Relevant Statutes\"], axis=1)\n",
    "dfo['state']='Iowa'\n",
    "def func(row):\n",
    "    if row['Long Guns'] == 'Yes':\n",
    "        return '1'\n",
    "    elif row['Hand Guns'] =='Yes':\n",
    "        return '1' \n",
    "    else:\n",
    "        return '0'\n",
    "\n",
    "dfo['nums'] = dfo.apply(func, axis=1)\n",
    "dfo['nums'] = pd.to_numeric(dfo['nums'])\n",
    "dfo = dfo.drop([\"Subject/Law\", \"Long Guns\",\"Hand Guns\"], axis=1)\n",
    "dfo['state']='Iowa'\n",
    "test=dfo['state'].count()\n",
    "print(test)\n",
    "#dfo.dtypes"
   ]
  },
  {
   "cell_type": "code",
   "execution_count": 19,
   "id": "8d131281",
   "metadata": {},
   "outputs": [
    {
     "name": "stdout",
     "output_type": "stream",
     "text": [
      "13\n"
     ]
    }
   ],
   "source": [
    "wikiurl=\"https://en.wikipedia.org/wiki/Gun_laws_in_Kansas\"\n",
    "tables = pd.read_html(wikiurl)\n",
    "dfp=pd.DataFrame(tables[0])\n",
    "wikiurl=\"https://en.wikipedia.org/wiki/Gun_laws_in_Kansas\"\n",
    "tables = pd.read_html(wikiurl)\n",
    "dfp=pd.DataFrame(tables[0])\n",
    "dfp = dfp.drop([\"Notes\", \"Relevant Statutes\"], axis=1)\n",
    "dfp['state']='Kansas'\n",
    "def func(row):\n",
    "    if row['Long Guns'] == 'Yes':\n",
    "        return '1'\n",
    "    elif row['Hand Guns'] =='Yes':\n",
    "        return '1' \n",
    "    else:\n",
    "        return '0'\n",
    "\n",
    "dfp['nums'] = dfp.apply(func, axis=1)\n",
    "dfp['nums'] = pd.to_numeric(dfp['nums'])\n",
    "dfp = dfp.drop([\"Subject/Law\", \"Long Guns\",\"Hand Guns\"], axis=1)\n",
    "dfp['state']='Kansas'\n",
    "test=dfp['state'].count()\n",
    "print(test)\n",
    "#dfp.dtypes"
   ]
  },
  {
   "cell_type": "code",
   "execution_count": 20,
   "id": "0c41e789",
   "metadata": {},
   "outputs": [
    {
     "name": "stdout",
     "output_type": "stream",
     "text": [
      "13\n"
     ]
    }
   ],
   "source": [
    "wikiurl=\"https://en.wikipedia.org/wiki/Gun_laws_in_Kentucky\"\n",
    "tables = pd.read_html(wikiurl)\n",
    "dfq=pd.DataFrame(tables[0])\n",
    "dfq = dfq.drop([\"Notes\", \"Relevant Statutes\"], axis=1)\n",
    "dfq['state']='Kentucky'\n",
    "def func(row):\n",
    "    if row['Long Guns'] == 'Yes':\n",
    "        return '1'\n",
    "    elif row['Hand Guns'] =='Yes':\n",
    "        return '1' \n",
    "    else:\n",
    "        return '0'\n",
    "\n",
    "dfq['nums'] = dfq.apply(func, axis=1)\n",
    "dfq['nums'] = pd.to_numeric(dfq['nums'])\n",
    "dfq = dfq.drop([\"Subject/Law\", \"Long Guns\",\"Hand Guns\"], axis=1)\n",
    "dfq['state']='Kentucky'\n",
    "test=dfq['state'].count()\n",
    "print(test)\n",
    "#dfq.dtypes"
   ]
  },
  {
   "cell_type": "code",
   "execution_count": 21,
   "id": "ead4b0bf",
   "metadata": {},
   "outputs": [
    {
     "name": "stdout",
     "output_type": "stream",
     "text": [
      "13\n"
     ]
    }
   ],
   "source": [
    "wikiurl=\"https://en.wikipedia.org/wiki/Gun_laws_in_Louisiana\"\n",
    "tables = pd.read_html(wikiurl)\n",
    "dfr=pd.DataFrame(tables[0])\n",
    "dfr = dfr.drop([\"Notes\", \"Relevant Statutes\"], axis=1)\n",
    "dfr['state']='Louisiana'\n",
    "def func(row):\n",
    "    if row['Long Guns'] == 'Yes':\n",
    "        return '1'\n",
    "    elif row['Hand Guns'] =='Yes':\n",
    "        return '1' \n",
    "    else:\n",
    "        return '0'\n",
    "\n",
    "dfr['nums'] = dfr.apply(func, axis=1)\n",
    "dfr['nums'] = pd.to_numeric(dfr['nums'])\n",
    "dfr = dfr.drop([\"Subject/Law\", \"Long Guns\",\"Hand Guns\"], axis=1)\n",
    "dfr['state']='Louisiana'\n",
    "test=dfr['state'].count()\n",
    "print(test)\n",
    "#dfr.dtypes"
   ]
  },
  {
   "cell_type": "code",
   "execution_count": 22,
   "id": "8b71e4d7",
   "metadata": {},
   "outputs": [
    {
     "name": "stdout",
     "output_type": "stream",
     "text": [
      "15\n"
     ]
    }
   ],
   "source": [
    "wikiurl=\"https://en.wikipedia.org/wiki/Gun_laws_in_Maine\"\n",
    "tables = pd.read_html(wikiurl)\n",
    "dfs=pd.DataFrame(tables[0])\n",
    "dfs = dfs.drop([\"Notes\", \"Relevant Statutes\"], axis=1)\n",
    "dfs['state']='Maine'\n",
    "def func(row):\n",
    "    if row['Long Guns'] == 'Yes':\n",
    "        return '1'\n",
    "    elif row['Hand Guns'] =='Yes':\n",
    "        return '1' \n",
    "    else:\n",
    "        return '0'\n",
    "\n",
    "dfs['nums'] = dfs.apply(func, axis=1)\n",
    "dfs['nums'] = pd.to_numeric(dfs['nums'])\n",
    "dfs = dfs.drop([\"Subject/Law\", \"Long Guns\",\"Hand Guns\"], axis=1)\n",
    "dfs['state']='Maine'\n",
    "test=dfs['state'].count()\n",
    "print(test)\n",
    "#dfs.dtypes"
   ]
  },
  {
   "cell_type": "code",
   "execution_count": 23,
   "id": "94874c24",
   "metadata": {},
   "outputs": [
    {
     "name": "stdout",
     "output_type": "stream",
     "text": [
      "11\n"
     ]
    }
   ],
   "source": [
    "wikiurl=\"https://en.wikipedia.org/wiki/Gun_laws_in_Maryland\"\n",
    "tables = pd.read_html(wikiurl)\n",
    "dft=pd.DataFrame(tables[0])\n",
    "dft = dft.drop([\"Notes\", \"Relevant Statutes\"], axis=1)\n",
    "dft['state']='Maryland'\n",
    "def func(row):\n",
    "    if row['Long Guns'] == 'Yes':\n",
    "        return '1'\n",
    "    elif row['Handguns'] =='Yes':\n",
    "        return '1' \n",
    "    else:\n",
    "        return '0'\n",
    "\n",
    "dft['nums'] = dft.apply(func, axis=1)\n",
    "dft['nums'] = pd.to_numeric(dft['nums'])\n",
    "dft = dft.drop([\"Subject/Law\", \"Long Guns\",\"Handguns\"], axis=1)\n",
    "dft['state']='Maryland'\n",
    "test=dft['state'].count()\n",
    "print(test)\n",
    "#dft.dtypes"
   ]
  },
  {
   "cell_type": "code",
   "execution_count": 24,
   "id": "798bd5d2",
   "metadata": {},
   "outputs": [
    {
     "data": {
      "text/html": [
       "<div>\n",
       "<style scoped>\n",
       "    .dataframe tbody tr th:only-of-type {\n",
       "        vertical-align: middle;\n",
       "    }\n",
       "\n",
       "    .dataframe tbody tr th {\n",
       "        vertical-align: top;\n",
       "    }\n",
       "\n",
       "    .dataframe thead th {\n",
       "        text-align: right;\n",
       "    }\n",
       "</style>\n",
       "<table border=\"1\" class=\"dataframe\">\n",
       "  <thead>\n",
       "    <tr style=\"text-align: right;\">\n",
       "      <th></th>\n",
       "      <th>state</th>\n",
       "      <th>nums</th>\n",
       "    </tr>\n",
       "  </thead>\n",
       "  <tbody>\n",
       "    <tr>\n",
       "      <th>0</th>\n",
       "      <td>Hawaii</td>\n",
       "      <td>1</td>\n",
       "    </tr>\n",
       "    <tr>\n",
       "      <th>1</th>\n",
       "      <td>Hawaii</td>\n",
       "      <td>1</td>\n",
       "    </tr>\n",
       "    <tr>\n",
       "      <th>2</th>\n",
       "      <td>Hawaii</td>\n",
       "      <td>1</td>\n",
       "    </tr>\n",
       "    <tr>\n",
       "      <th>3</th>\n",
       "      <td>Hawaii</td>\n",
       "      <td>1</td>\n",
       "    </tr>\n",
       "    <tr>\n",
       "      <th>4</th>\n",
       "      <td>Hawaii</td>\n",
       "      <td>0</td>\n",
       "    </tr>\n",
       "  </tbody>\n",
       "</table>\n",
       "</div>"
      ],
      "text/plain": [
       "    state  nums\n",
       "0  Hawaii     1\n",
       "1  Hawaii     1\n",
       "2  Hawaii     1\n",
       "3  Hawaii     1\n",
       "4  Hawaii     0"
      ]
     },
     "execution_count": 24,
     "metadata": {},
     "output_type": "execute_result"
    }
   ],
   "source": [
    "#concat the dataframes-part2\n",
    "df2=pd.concat([dfk,dfl,dfm,dfm,dfo,dfp,dfq,dfr,dfs,dft], axis=0)\n",
    "df2.head()"
   ]
  },
  {
   "cell_type": "code",
   "execution_count": 25,
   "id": "8a776380",
   "metadata": {},
   "outputs": [
    {
     "name": "stdout",
     "output_type": "stream",
     "text": [
      "11\n"
     ]
    }
   ],
   "source": [
    "wikiurl=\"https://en.wikipedia.org/wiki/Gun_laws_in_Massachusetts\"\n",
    "tables = pd.read_html(wikiurl)\n",
    "dfu=pd.DataFrame(tables[0])\n",
    "dfu = dfu.drop([\"Notes\", \"Relevant statutes\"], axis=1)\n",
    "dfu['state']='Massachusetts'\n",
    "def func(row):\n",
    "    if row['Long guns'] == 'Yes':\n",
    "        return '1'\n",
    "    elif row['Handguns'] =='Yes':\n",
    "        return '1' \n",
    "    else:\n",
    "        return '0'\n",
    "\n",
    "dfu['nums'] = dfu.apply(func, axis=1)\n",
    "dfu['nums'] = pd.to_numeric(dfu['nums'])\n",
    "dfu = dfu.drop([\"Subject/Law\", \"Long guns\",\"Handguns\"], axis=1)\n",
    "dfu['state']='Massachusetts'\n",
    "test=dfu['state'].count()\n",
    "print(test)\n",
    "#dfu.dtypes"
   ]
  },
  {
   "cell_type": "code",
   "execution_count": 26,
   "id": "42608a73",
   "metadata": {},
   "outputs": [
    {
     "name": "stdout",
     "output_type": "stream",
     "text": [
      "13\n"
     ]
    }
   ],
   "source": [
    "wikiurl=\"https://en.wikipedia.org/wiki/Gun_laws_in_Michigan\"\n",
    "tables = pd.read_html(wikiurl)\n",
    "dfv=pd.DataFrame(tables[0])\n",
    "dfv = dfv.drop([\"Notes\", \"Relevant Statutes\"], axis=1)\n",
    "dfv['state']='Michigan'\n",
    "def func(row):\n",
    "    if row['Long Guns'] == 'Yes':\n",
    "        return '1'\n",
    "    elif row['Hand Guns'] =='Yes':\n",
    "        return '1' \n",
    "    else:\n",
    "        return '0'\n",
    "\n",
    "dfv['nums'] = dfv.apply(func, axis=1)\n",
    "dfv['nums'] = pd.to_numeric(dfv['nums'])\n",
    "dfv = dfv.drop([\"Subject/Law\", \"Long Guns\",\"Hand Guns\"], axis=1)\n",
    "dfv['state']='Michigan'\n",
    "test=dfv['state'].count()\n",
    "print(test)\n",
    "#dfv.dtypes"
   ]
  },
  {
   "cell_type": "code",
   "execution_count": 27,
   "id": "8b71e36c",
   "metadata": {},
   "outputs": [
    {
     "name": "stdout",
     "output_type": "stream",
     "text": [
      "11\n"
     ]
    }
   ],
   "source": [
    "wikiurl=\"https://en.wikipedia.org/wiki/Gun_laws_in_Minnesota\"\n",
    "tables = pd.read_html(wikiurl)\n",
    "dfw=pd.DataFrame(tables[0])\n",
    "dfw = dfw.drop([\"Notes\", \"Relevant Statutes\"], axis=1)\n",
    "dfw['state']='Minnesota'\n",
    "def func(row):\n",
    "    if row['Long guns'] == 'Yes':\n",
    "        return '1'\n",
    "    elif row['Handguns'] =='Yes':\n",
    "        return '1' \n",
    "    else:\n",
    "        return '0'\n",
    "\n",
    "dfw['nums'] = dfw.apply(func, axis=1)\n",
    "dfw['nums'] = pd.to_numeric(dfw['nums'])\n",
    "dfw = dfw.drop([\"Subject/Law\", \"Long guns\",\"Handguns\"], axis=1)\n",
    "dfw['state']='Minnesota'\n",
    "test=dfw['state'].count()\n",
    "print(test)\n",
    "#dfw.dtypes"
   ]
  },
  {
   "cell_type": "code",
   "execution_count": 28,
   "id": "9d754b51",
   "metadata": {},
   "outputs": [
    {
     "name": "stdout",
     "output_type": "stream",
     "text": [
      "12\n"
     ]
    }
   ],
   "source": [
    "wikiurl=\"https://en.wikipedia.org/wiki/Gun_laws_in_Mississippi\"\n",
    "tables = pd.read_html(wikiurl)\n",
    "dfx=pd.DataFrame(tables[0])\n",
    "dfx = dfx.drop([\"Notes\", \"Relevant Statutes\"], axis=1)\n",
    "dfx['state']='Mississippi'\n",
    "def func(row):\n",
    "    if row['Long Guns'] == 'Yes':\n",
    "        return '1'\n",
    "    elif row['Hand Guns'] =='Yes':\n",
    "        return '1' \n",
    "    else:\n",
    "        return '0'\n",
    "\n",
    "dfx['nums'] = dfx.apply(func, axis=1)\n",
    "dfx['nums'] = pd.to_numeric(dfx['nums'])\n",
    "dfx = dfx.drop([\"Subject/Law\", \"Long Guns\",\"Hand Guns\"], axis=1)\n",
    "dfx['state']='Mississippi'\n",
    "test=dfx['state'].count()\n",
    "print(test)\n",
    "#dfx.dtypes"
   ]
  },
  {
   "cell_type": "code",
   "execution_count": 29,
   "id": "79388320",
   "metadata": {},
   "outputs": [
    {
     "name": "stdout",
     "output_type": "stream",
     "text": [
      "12\n"
     ]
    }
   ],
   "source": [
    "wikiurl=\"https://en.wikipedia.org/wiki/Gun_laws_in_Missouri\"\n",
    "tables = pd.read_html(wikiurl)\n",
    "dfy=pd.DataFrame(tables[0])\n",
    "dfy = dfy.drop([\"Notes\", \"Relevant Statutes\"], axis=1)\n",
    "dfy['state']='Missouri'\n",
    "def func(row):\n",
    "    if row['Long Guns'] == 'Yes':\n",
    "        return '1'\n",
    "    elif row['Hand Guns'] =='Yes':\n",
    "        return '1' \n",
    "    else:\n",
    "        return '0'\n",
    "\n",
    "dfy['nums'] = dfy.apply(func, axis=1)\n",
    "dfy['nums'] = pd.to_numeric(dfy['nums'])\n",
    "dfy = dfy.drop([\"Subject/Law\", \"Long Guns\",\"Hand Guns\"], axis=1)\n",
    "dfy['state']='Missouri'\n",
    "test=dfy['state'].count()\n",
    "print(test)\n",
    "#dfy.dtypes"
   ]
  },
  {
   "cell_type": "code",
   "execution_count": 30,
   "id": "61bc2a68",
   "metadata": {},
   "outputs": [
    {
     "name": "stdout",
     "output_type": "stream",
     "text": [
      "12\n"
     ]
    }
   ],
   "source": [
    "wikiurl=\"https://en.wikipedia.org/wiki/Gun_laws_in_Montana\"\n",
    "tables = pd.read_html(wikiurl)\n",
    "dfz=pd.DataFrame(tables[0])\n",
    "dfz = dfz.drop([\"Notes\", \"Relevant statutes\"], axis=1)\n",
    "dfz['state']='Montana'\n",
    "def func(row):\n",
    "    if row['Long guns'] == 'Yes':\n",
    "        return '1'\n",
    "    elif row['Hand guns'] =='Yes':\n",
    "        return '1' \n",
    "    else:\n",
    "        return '0'\n",
    "\n",
    "dfz['nums'] = dfz.apply(func, axis=1)\n",
    "dfz['nums'] = pd.to_numeric(dfz['nums'])\n",
    "dfz = dfz.drop([\"Subject/law\", \"Long guns\",\"Hand guns\"], axis=1)\n",
    "dfz['state']='Montana'\n",
    "test=dfz['state'].count()\n",
    "print(test)\n",
    "#dfz.dtypes"
   ]
  },
  {
   "cell_type": "code",
   "execution_count": 31,
   "id": "e9e53d93",
   "metadata": {},
   "outputs": [
    {
     "name": "stdout",
     "output_type": "stream",
     "text": [
      "14\n"
     ]
    }
   ],
   "source": [
    "wikiurl=\"https://en.wikipedia.org/wiki/Gun_laws_in_Nebraska\"\n",
    "tables = pd.read_html(wikiurl)\n",
    "dfaa=pd.DataFrame(tables[0])\n",
    "dfaa = dfaa.drop([\"Notes\", \"Relevant Statutes\"], axis=1)\n",
    "dfaa['state']='Nebraska'\n",
    "def func(row):\n",
    "    if row['Long Guns'] == 'Yes':\n",
    "        return '1'\n",
    "    elif row['Hand Guns'] =='Yes':\n",
    "        return '1' \n",
    "    else:\n",
    "        return '0'\n",
    "\n",
    "dfaa['nums'] = dfaa.apply(func, axis=1)\n",
    "dfaa['nums'] = pd.to_numeric(dfaa['nums'])\n",
    "dfaa = dfaa.drop([\"Subject/Law\", \"Long Guns\",\"Hand Guns\"], axis=1)\n",
    "dfaa['state']='Nebraska'\n",
    "test=dfaa['state'].count()\n",
    "print(test)\n",
    "#dfaa.dtypes"
   ]
  },
  {
   "cell_type": "code",
   "execution_count": 32,
   "id": "947f07bc",
   "metadata": {},
   "outputs": [
    {
     "name": "stdout",
     "output_type": "stream",
     "text": [
      "11\n"
     ]
    }
   ],
   "source": [
    "wikiurl=\"https://en.wikipedia.org/wiki/Gun_laws_in_Nevada\"\n",
    "tables = pd.read_html(wikiurl)\n",
    "dfbb=pd.DataFrame(tables[0])\n",
    "dfbb = dfbb.drop([\"Notes\", \"Relevant statutes\"], axis=1)\n",
    "dfbb['state']='Nevada'\n",
    "def func(row):\n",
    "    if row['Long guns'] == 'Yes':\n",
    "        return '1'\n",
    "    elif row['Handguns'] =='Yes':\n",
    "        return '1' \n",
    "    else:\n",
    "        return '0'\n",
    "\n",
    "dfbb['nums'] = dfbb.apply(func, axis=1)\n",
    "dfbb['nums'] = pd.to_numeric(dfbb['nums'])\n",
    "dfbb = dfbb.drop([\"Subject/Law\", \"Long guns\",\"Handguns\"], axis=1)\n",
    "dfbb['state']='Nevada'\n",
    "test=dfbb['state'].count()\n",
    "print(test)\n",
    "#dfbb.dtypes"
   ]
  },
  {
   "cell_type": "code",
   "execution_count": 33,
   "id": "ca00c19b",
   "metadata": {},
   "outputs": [
    {
     "name": "stdout",
     "output_type": "stream",
     "text": [
      "12\n"
     ]
    }
   ],
   "source": [
    "wikiurl=\"https://en.wikipedia.org/wiki/Gun_laws_in_New_Hampshire\"\n",
    "tables = pd.read_html(wikiurl)\n",
    "dfcc=pd.DataFrame(tables[0])\n",
    "dfcc = dfcc.drop([\"Notes\", \"Relevant statutes\"], axis=1)\n",
    "dfcc['state']='New Hampshire'\n",
    "def func(row):\n",
    "    if row['Long guns'] == 'Yes':\n",
    "        return '1'\n",
    "    elif row['Hand guns'] =='Yes':\n",
    "        return '1' \n",
    "    else:\n",
    "        return '0'\n",
    "\n",
    "dfcc['nums'] = dfcc.apply(func, axis=1)\n",
    "dfcc['nums'] = pd.to_numeric(dfcc['nums'])\n",
    "dfcc = dfcc.drop([\"Subject/law\", \"Long guns\",\"Hand guns\"], axis=1)\n",
    "dfcc['state']='New Hampshire'\n",
    "test=dfcc['state'].count()\n",
    "print(test)\n",
    "#dfcc.dtypes"
   ]
  },
  {
   "cell_type": "code",
   "execution_count": 34,
   "id": "dfb7d77f",
   "metadata": {},
   "outputs": [
    {
     "name": "stdout",
     "output_type": "stream",
     "text": [
      "11\n"
     ]
    }
   ],
   "source": [
    "wikiurl=\"https://en.wikipedia.org/wiki/Gun_laws_in_New_Jersey\"\n",
    "tables = pd.read_html(wikiurl)\n",
    "dfdd=pd.DataFrame(tables[0])\n",
    "dfdd = dfdd.drop([\"Notes\", \"Relevant statutes\"], axis=1)\n",
    "dfdd['state']='New Jersey'\n",
    "def func(row):\n",
    "    if row['Long guns'] == 'Yes':\n",
    "        return '1'\n",
    "    elif row['Handguns'] =='Yes':\n",
    "        return '1' \n",
    "    else:\n",
    "        return '0'\n",
    "\n",
    "dfdd['nums'] = dfdd.apply(func, axis=1)\n",
    "dfdd['nums'] = pd.to_numeric(dfdd['nums'])\n",
    "dfdd = dfdd.drop([\"Subject/Law\", \"Long guns\",\"Handguns\"], axis=1)\n",
    "dfdd['state']='New Jersey'\n",
    "test=dfdd['state'].count()\n",
    "print(test)\n",
    "#dfdd.dtypes"
   ]
  },
  {
   "cell_type": "code",
   "execution_count": 35,
   "id": "f7931bbf",
   "metadata": {},
   "outputs": [
    {
     "data": {
      "text/html": [
       "<div>\n",
       "<style scoped>\n",
       "    .dataframe tbody tr th:only-of-type {\n",
       "        vertical-align: middle;\n",
       "    }\n",
       "\n",
       "    .dataframe tbody tr th {\n",
       "        vertical-align: top;\n",
       "    }\n",
       "\n",
       "    .dataframe thead th {\n",
       "        text-align: right;\n",
       "    }\n",
       "</style>\n",
       "<table border=\"1\" class=\"dataframe\">\n",
       "  <thead>\n",
       "    <tr style=\"text-align: right;\">\n",
       "      <th></th>\n",
       "      <th>state</th>\n",
       "      <th>nums</th>\n",
       "    </tr>\n",
       "  </thead>\n",
       "  <tbody>\n",
       "    <tr>\n",
       "      <th>0</th>\n",
       "      <td>Massachusetts</td>\n",
       "      <td>1</td>\n",
       "    </tr>\n",
       "    <tr>\n",
       "      <th>1</th>\n",
       "      <td>Massachusetts</td>\n",
       "      <td>0</td>\n",
       "    </tr>\n",
       "    <tr>\n",
       "      <th>2</th>\n",
       "      <td>Massachusetts</td>\n",
       "      <td>1</td>\n",
       "    </tr>\n",
       "    <tr>\n",
       "      <th>3</th>\n",
       "      <td>Massachusetts</td>\n",
       "      <td>1</td>\n",
       "    </tr>\n",
       "    <tr>\n",
       "      <th>4</th>\n",
       "      <td>Massachusetts</td>\n",
       "      <td>1</td>\n",
       "    </tr>\n",
       "  </tbody>\n",
       "</table>\n",
       "</div>"
      ],
      "text/plain": [
       "           state  nums\n",
       "0  Massachusetts     1\n",
       "1  Massachusetts     0\n",
       "2  Massachusetts     1\n",
       "3  Massachusetts     1\n",
       "4  Massachusetts     1"
      ]
     },
     "execution_count": 35,
     "metadata": {},
     "output_type": "execute_result"
    }
   ],
   "source": [
    "df3=pd.concat([dfu,dfv,dfw,dfx,dfy,dfz,dfaa,dfbb,dfcc,dfdd], axis=0)\n",
    "df3.head()"
   ]
  },
  {
   "cell_type": "code",
   "execution_count": 36,
   "id": "2380c5df",
   "metadata": {},
   "outputs": [
    {
     "name": "stdout",
     "output_type": "stream",
     "text": [
      "19\n"
     ]
    }
   ],
   "source": [
    "wikiurl=\"https://en.wikipedia.org/wiki/Gun_laws_in_New_Mexico\"\n",
    "tables = pd.read_html(wikiurl)\n",
    "dfee=pd.DataFrame(tables[0])\n",
    "dfee = dfee.drop([\"Notes\", \"Relevant Statutes\"], axis=1)\n",
    "dfee['state']='New Mexico'\n",
    "def func(row):\n",
    "    if row['Long Guns'] == 'Yes':\n",
    "        return '1'\n",
    "    elif row['Handguns'] =='Yes':\n",
    "        return '1' \n",
    "    else:\n",
    "        return '0'\n",
    "\n",
    "dfee['nums'] = dfee.apply(func, axis=1)\n",
    "dfee['nums'] = pd.to_numeric(dfee['nums'])\n",
    "dfee = dfee.drop([\"Subject/Law\", \"Long Guns\",\"Handguns\"], axis=1)\n",
    "dfee['state']='New Mexico'\n",
    "test=dfee['state'].count()\n",
    "print(test)\n",
    "#dfee.dtypes"
   ]
  },
  {
   "cell_type": "code",
   "execution_count": 37,
   "id": "955c04ba",
   "metadata": {},
   "outputs": [
    {
     "name": "stdout",
     "output_type": "stream",
     "text": [
      "14\n"
     ]
    }
   ],
   "source": [
    "wikiurl=\"https://en.wikipedia.org/wiki/Gun_laws_in_New_York\"\n",
    "tables = pd.read_html(wikiurl)\n",
    "dfff=pd.DataFrame(tables[0])\n",
    "dfff = dfff.drop([\"Notes\", \"Relevant statutes\"], axis=1)\n",
    "dfff['state']='New York'\n",
    "def func(row):\n",
    "    if row['Long guns'] == 'Yes':\n",
    "        return '1'\n",
    "    elif row['Handguns'] =='Yes':\n",
    "        return '1' \n",
    "    else:\n",
    "        return '0'\n",
    "\n",
    "dfff['nums'] = dfff.apply(func, axis=1)\n",
    "dfff['nums'] = pd.to_numeric(dfff['nums'])\n",
    "dfff = dfff.drop([\"Subject/Law\", \"Long guns\",\"Handguns\"], axis=1)\n",
    "dfff['state']='New York'\n",
    "test=dfff['state'].count()\n",
    "print(test)\n",
    "#dfff.dtypes"
   ]
  },
  {
   "cell_type": "code",
   "execution_count": 38,
   "id": "6b12b5f0",
   "metadata": {},
   "outputs": [
    {
     "name": "stdout",
     "output_type": "stream",
     "text": [
      "14\n"
     ]
    }
   ],
   "source": [
    "wikiurl=\"https://en.wikipedia.org/wiki/Gun_laws_in_North_Carolina\"\n",
    "tables = pd.read_html(wikiurl)\n",
    "dfgg=pd.DataFrame(tables[1]) #another table on index1\n",
    "dfgg = dfgg.drop([\"Notes\", \"Relevant Statutes\"], axis=1)\n",
    "dfgg['state']='North Carolina'\n",
    "def func(row):\n",
    "    if row['Long Guns'] == 'Yes':\n",
    "        return '1'\n",
    "    elif row['Hand Guns'] =='Yes':\n",
    "        return '1' \n",
    "    else:\n",
    "        return '0'\n",
    "\n",
    "dfgg['nums'] = dfgg.apply(func, axis=1)\n",
    "dfgg['nums'] = pd.to_numeric(dfgg['nums'])\n",
    "dfgg = dfgg.drop([\"Subject/Law\", \"Long Guns\",\"Hand Guns\"], axis=1)\n",
    "dfgg['state']='North Carolina'\n",
    "test=dfgg['state'].count()\n",
    "print(test)\n",
    "#dfgg.dtypes"
   ]
  },
  {
   "cell_type": "code",
   "execution_count": 39,
   "id": "4b734df3",
   "metadata": {},
   "outputs": [
    {
     "name": "stdout",
     "output_type": "stream",
     "text": [
      "14\n"
     ]
    }
   ],
   "source": [
    "wikiurl=\"https://en.wikipedia.org/wiki/Gun_laws_in_North_Dakota\"\n",
    "tables = pd.read_html(wikiurl)\n",
    "dfhh=pd.DataFrame(tables[0])\n",
    "dfhh = dfhh.drop([\"Notes\", \"Relevant Statutes\"], axis=1)\n",
    "dfhh['state']='North Dakota'\n",
    "def func(row):\n",
    "    if row['Long Guns'] == 'Yes':\n",
    "        return '1'\n",
    "    elif row['Hand Guns'] =='Yes':\n",
    "        return '1' \n",
    "    else:\n",
    "        return '0'\n",
    "\n",
    "dfhh['nums'] = dfhh.apply(func, axis=1)\n",
    "dfhh['nums'] = pd.to_numeric(dfhh['nums'])\n",
    "dfhh = dfhh.drop([\"Subject/Law\", \"Long Guns\",\"Hand Guns\"], axis=1)\n",
    "dfhh['state']='North Dakota'\n",
    "test=dfhh['state'].count()\n",
    "print(test)\n",
    "#dfhh.dtypes"
   ]
  },
  {
   "cell_type": "code",
   "execution_count": 40,
   "id": "cf0ed02b",
   "metadata": {},
   "outputs": [
    {
     "name": "stdout",
     "output_type": "stream",
     "text": [
      "15\n"
     ]
    }
   ],
   "source": [
    "wikiurl=\"https://en.wikipedia.org/wiki/Gun_laws_in_Ohio\"\n",
    "tables = pd.read_html(wikiurl)\n",
    "dfii=pd.DataFrame(tables[0])\n",
    "dfii = dfii.drop([\"Notes\", \"Relevant Statutes\"], axis=1)\n",
    "dfii['state']='Ohio'\n",
    "def func(row):\n",
    "    if row['Long Guns'] == 'Yes':\n",
    "        return '1'\n",
    "    elif row['Hand Guns'] =='Yes':\n",
    "        return '1' \n",
    "    else:\n",
    "        return '0'\n",
    "\n",
    "dfii['nums'] = dfii.apply(func, axis=1)\n",
    "dfii['nums'] = pd.to_numeric(dfii['nums'])\n",
    "dfii = dfii.drop([\"Subject/Law\", \"Long Guns\",\"Hand Guns\"], axis=1)\n",
    "dfii['state']='Ohio'\n",
    "test=dfii['state'].count()\n",
    "print(test)\n",
    "#dfii.dtypes"
   ]
  },
  {
   "cell_type": "code",
   "execution_count": 41,
   "id": "90dc8539",
   "metadata": {},
   "outputs": [
    {
     "name": "stdout",
     "output_type": "stream",
     "text": [
      "14\n"
     ]
    }
   ],
   "source": [
    "wikiurl=\"https://en.wikipedia.org/wiki/Gun_laws_in_Oklahoma\"\n",
    "tables = pd.read_html(wikiurl)\n",
    "dfjj=pd.DataFrame(tables[0])\n",
    "dfjj = dfjj.drop([\"Notes\", \"Relevant Statutes\"], axis=1)\n",
    "dfjj['state']='Oklahoma'\n",
    "def func(row):\n",
    "    if row['Long Guns'] == 'Yes':\n",
    "        return '1'\n",
    "    elif row['Hand Guns'] =='Yes':\n",
    "        return '1' \n",
    "    else:\n",
    "        return '0'\n",
    "\n",
    "dfjj['nums'] = dfjj.apply(func, axis=1)\n",
    "dfjj['nums'] = pd.to_numeric(dfjj['nums'])\n",
    "dfjj = dfjj.drop([\"Subject/Law\", \"Long Guns\",\"Hand Guns\"], axis=1)\n",
    "dfjj['state']='Oklahoma'\n",
    "test=dfjj['state'].count()\n",
    "print(test)\n",
    "#dfjj.dtypes"
   ]
  },
  {
   "cell_type": "code",
   "execution_count": 42,
   "id": "34868676",
   "metadata": {},
   "outputs": [
    {
     "name": "stdout",
     "output_type": "stream",
     "text": [
      "13\n"
     ]
    }
   ],
   "source": [
    "wikiurl=\"https://en.wikipedia.org/wiki/Gun_laws_in_Oregon\"\n",
    "tables = pd.read_html(wikiurl)\n",
    "dfkk=pd.DataFrame(tables[0])\n",
    "dfkk = dfkk.drop([\"Notes\", \"Relevant statutes\"], axis=1)\n",
    "dfkk['state']='Oregon'\n",
    "def func(row):\n",
    "    if row['Long guns'] == 'Yes':\n",
    "        return '1'\n",
    "    elif row['Handguns'] =='Yes':\n",
    "        return '1' \n",
    "    else:\n",
    "        return '0'\n",
    "\n",
    "dfkk['nums'] = dfkk.apply(func, axis=1)\n",
    "dfkk['nums'] = pd.to_numeric(dfkk['nums'])\n",
    "dfkk = dfkk.drop([\"Subject/Law\", \"Long guns\",\"Handguns\"], axis=1)\n",
    "dfkk['state']='Oregon'\n",
    "test=dfkk['state'].count()\n",
    "print(test)\n",
    "#dfkk.dtypes"
   ]
  },
  {
   "cell_type": "code",
   "execution_count": 43,
   "id": "20028439",
   "metadata": {},
   "outputs": [
    {
     "name": "stdout",
     "output_type": "stream",
     "text": [
      "12\n"
     ]
    }
   ],
   "source": [
    "wikiurl=\"https://en.wikipedia.org/wiki/Gun_laws_in_Pennsylvania\"\n",
    "tables = pd.read_html(wikiurl)\n",
    "dfll=pd.DataFrame(tables[0])\n",
    "dfll = dfll.drop([\"Notes\", \"Relevant Statutes\"], axis=1)\n",
    "dfll['state']='Pennsylvania'\n",
    "def func(row):\n",
    "    if row['Long Guns'] == 'Yes':\n",
    "        return '1'\n",
    "    elif row['Hand Guns'] =='Yes':\n",
    "        return '1' \n",
    "    else:\n",
    "        return '0'\n",
    "\n",
    "dfll['nums'] = dfll.apply(func, axis=1)\n",
    "dfll['nums'] = pd.to_numeric(dfll['nums'])\n",
    "dfll = dfll.drop([\"Subject/Law\", \"Long Guns\",\"Hand Guns\"], axis=1)\n",
    "dfll['state']='Pennsylvania'\n",
    "test=dfll['state'].count()\n",
    "print(test)\n",
    "#dfll.dtypes"
   ]
  },
  {
   "cell_type": "code",
   "execution_count": 44,
   "id": "f3621a19",
   "metadata": {},
   "outputs": [
    {
     "name": "stdout",
     "output_type": "stream",
     "text": [
      "15\n"
     ]
    }
   ],
   "source": [
    "wikiurl=\"https://en.wikipedia.org/wiki/Gun_laws_in_Rhode_Island\"\n",
    "tables = pd.read_html(wikiurl)\n",
    "dfmm=pd.DataFrame(tables[0])\n",
    "dfmm = dfmm.drop([\"Notes\", \"Relevant Statutes\"], axis=1)\n",
    "dfmm['state']='Rhode Island'\n",
    "def func(row):\n",
    "    if row['Long guns'] == 'Yes':\n",
    "        return '1'\n",
    "    elif row['Handguns'] =='Yes':\n",
    "        return '1' \n",
    "    else:\n",
    "        return '0'\n",
    "\n",
    "dfmm['nums'] = dfmm.apply(func, axis=1)\n",
    "dfmm['nums'] = pd.to_numeric(dfmm['nums'])\n",
    "dfmm = dfmm.drop([\"Subject/Law\", \"Long guns\",\"Handguns\"], axis=1)\n",
    "dfmm['state']='Rhode Island'\n",
    "test=dfmm['state'].count()\n",
    "print(test)\n",
    "#dfmm.dtypes"
   ]
  },
  {
   "cell_type": "code",
   "execution_count": 45,
   "id": "1459b1b7",
   "metadata": {},
   "outputs": [
    {
     "name": "stdout",
     "output_type": "stream",
     "text": [
      "13\n"
     ]
    }
   ],
   "source": [
    "wikiurl=\"https://en.wikipedia.org/wiki/Gun_laws_in_South_Carolina\"\n",
    "tables = pd.read_html(wikiurl)\n",
    "dfnn=pd.DataFrame(tables[0])\n",
    "dfnn = dfnn.drop([\"Notes\", \"Relevant Statutes\"], axis=1)\n",
    "dfnn['state']='South Carolina'\n",
    "def func(row):\n",
    "    if row['Long Guns'] == 'Yes':\n",
    "        return '1'\n",
    "    elif row['Hand Guns'] =='Yes':\n",
    "        return '1' \n",
    "    else:\n",
    "        return '0'\n",
    "\n",
    "dfnn['nums'] = dfnn.apply(func, axis=1)\n",
    "dfnn['nums'] = pd.to_numeric(dfnn['nums'])\n",
    "dfnn = dfnn.drop([\"Subject/Law\", \"Long Guns\",\"Hand Guns\"], axis=1)\n",
    "dfnn['state']='South Carolina'\n",
    "test=dfnn['state'].count()\n",
    "print(test)\n",
    "#dfnn.dtypes"
   ]
  },
  {
   "cell_type": "code",
   "execution_count": 46,
   "id": "1173a140",
   "metadata": {},
   "outputs": [
    {
     "data": {
      "text/html": [
       "<div>\n",
       "<style scoped>\n",
       "    .dataframe tbody tr th:only-of-type {\n",
       "        vertical-align: middle;\n",
       "    }\n",
       "\n",
       "    .dataframe tbody tr th {\n",
       "        vertical-align: top;\n",
       "    }\n",
       "\n",
       "    .dataframe thead th {\n",
       "        text-align: right;\n",
       "    }\n",
       "</style>\n",
       "<table border=\"1\" class=\"dataframe\">\n",
       "  <thead>\n",
       "    <tr style=\"text-align: right;\">\n",
       "      <th></th>\n",
       "      <th>state</th>\n",
       "      <th>nums</th>\n",
       "    </tr>\n",
       "  </thead>\n",
       "  <tbody>\n",
       "    <tr>\n",
       "      <th>0</th>\n",
       "      <td>New Mexico</td>\n",
       "      <td>0</td>\n",
       "    </tr>\n",
       "    <tr>\n",
       "      <th>1</th>\n",
       "      <td>New Mexico</td>\n",
       "      <td>0</td>\n",
       "    </tr>\n",
       "    <tr>\n",
       "      <th>2</th>\n",
       "      <td>New Mexico</td>\n",
       "      <td>0</td>\n",
       "    </tr>\n",
       "    <tr>\n",
       "      <th>3</th>\n",
       "      <td>New Mexico</td>\n",
       "      <td>0</td>\n",
       "    </tr>\n",
       "    <tr>\n",
       "      <th>4</th>\n",
       "      <td>New Mexico</td>\n",
       "      <td>0</td>\n",
       "    </tr>\n",
       "  </tbody>\n",
       "</table>\n",
       "</div>"
      ],
      "text/plain": [
       "        state  nums\n",
       "0  New Mexico     0\n",
       "1  New Mexico     0\n",
       "2  New Mexico     0\n",
       "3  New Mexico     0\n",
       "4  New Mexico     0"
      ]
     },
     "execution_count": 46,
     "metadata": {},
     "output_type": "execute_result"
    }
   ],
   "source": [
    "df4=pd.concat([dfee,dfff,dfgg,dfhh,dfii,dfjj,dfkk,dfll,dfmm,dfnn], axis=0)\n",
    "df4.head()"
   ]
  },
  {
   "cell_type": "code",
   "execution_count": 47,
   "id": "8aef8e3b",
   "metadata": {},
   "outputs": [
    {
     "name": "stdout",
     "output_type": "stream",
     "text": [
      "12\n"
     ]
    }
   ],
   "source": [
    "wikiurl=\"https://en.wikipedia.org/wiki/Gun_laws_in_South_Dakota\"\n",
    "tables = pd.read_html(wikiurl)\n",
    "dfoo=pd.DataFrame(tables[0])\n",
    "dfoo = dfoo.drop([\"Notes\", \"Relevant Statutes\"], axis=1)\n",
    "dfoo['state']='South Dakota'\n",
    "def func(row):\n",
    "    if row['Long Guns'] == 'Yes':\n",
    "        return '1'\n",
    "    elif row['Hand Guns'] =='Yes':\n",
    "        return '1' \n",
    "    else:\n",
    "        return '0'\n",
    "\n",
    "dfoo['nums'] = dfoo.apply(func, axis=1)\n",
    "dfoo['nums'] = pd.to_numeric(dfoo['nums'])\n",
    "dfoo = dfoo.drop([\"Subject/Law\", \"Long Guns\",\"Hand Guns\"], axis=1)\n",
    "dfoo['state']='South Dakota'\n",
    "test=dfoo['state'].count()\n",
    "print(test)\n",
    "#dfoo.dtypes"
   ]
  },
  {
   "cell_type": "code",
   "execution_count": 48,
   "id": "0ec21396",
   "metadata": {},
   "outputs": [
    {
     "name": "stdout",
     "output_type": "stream",
     "text": [
      "13\n"
     ]
    }
   ],
   "source": [
    "wikiurl=\"https://en.wikipedia.org/wiki/Gun_laws_in_Tennessee\"\n",
    "tables = pd.read_html(wikiurl)\n",
    "dfpp=pd.DataFrame(tables[0])\n",
    "dfpp = dfpp.drop([\"Notes\", \"Relevant Statutes\"], axis=1)\n",
    "dfpp['state']='Tennessee'\n",
    "def func(row):\n",
    "    if row['Long Guns'] == 'Yes':\n",
    "        return '1'\n",
    "    elif row['Hand Guns'] =='Yes':\n",
    "        return '1' \n",
    "    else:\n",
    "        return '0'\n",
    "\n",
    "dfpp['nums'] = dfpp.apply(func, axis=1)\n",
    "dfpp['nums'] = pd.to_numeric(dfpp['nums'])\n",
    "dfpp = dfpp.drop([\"Subject/Law\", \"Long Guns\",\"Hand Guns\"], axis=1)\n",
    "dfpp['state']='Tennessee'\n",
    "test=dfpp['state'].count()\n",
    "print(test)\n",
    "#dfpp.dtypes"
   ]
  },
  {
   "cell_type": "code",
   "execution_count": 49,
   "id": "84952c94",
   "metadata": {},
   "outputs": [
    {
     "name": "stdout",
     "output_type": "stream",
     "text": [
      "14\n"
     ]
    }
   ],
   "source": [
    "wikiurl=\"https://en.wikipedia.org/wiki/Gun_laws_in_Texas\"\n",
    "tables = pd.read_html(wikiurl)\n",
    "dfqq=pd.DataFrame(tables[0])\n",
    "dfqq = dfqq.drop([\"Notes\", \"Relevant Statutes\"], axis=1)\n",
    "dfqq['state']='Texas'\n",
    "def func(row):\n",
    "    if row['Long Guns'] == 'Yes':\n",
    "        return '1'\n",
    "    elif row['Hand Guns'] =='Yes':\n",
    "        return '1' \n",
    "    else:\n",
    "        return '0'\n",
    "\n",
    "dfqq['nums'] = dfqq.apply(func, axis=1)\n",
    "dfqq['nums'] = pd.to_numeric(dfqq['nums'])\n",
    "dfqq = dfqq.drop([\"Subject/Law\", \"Long Guns\",\"Hand Guns\"], axis=1)\n",
    "dfqq['state']='Texas'\n",
    "test=dfqq['state'].count()\n",
    "print(test)\n",
    "#dfqq.dtypes"
   ]
  },
  {
   "cell_type": "code",
   "execution_count": 50,
   "id": "03989f63",
   "metadata": {},
   "outputs": [
    {
     "name": "stdout",
     "output_type": "stream",
     "text": [
      "14\n"
     ]
    }
   ],
   "source": [
    "wikiurl=\"https://en.wikipedia.org/wiki/Gun_laws_in_Utah\"\n",
    "tables = pd.read_html(wikiurl)\n",
    "dfrr=pd.DataFrame(tables[0])\n",
    "dfrr = dfrr.drop([\"Notes\", \"Relevant Statutes\"], axis=1)\n",
    "dfrr['state']='Utah'\n",
    "def func(row):\n",
    "    if row['Long Guns'] == 'Yes':\n",
    "        return '1'\n",
    "    elif row['Hand Guns'] =='Yes':\n",
    "        return '1' \n",
    "    else:\n",
    "        return '0'\n",
    "\n",
    "dfrr['nums'] = dfrr.apply(func, axis=1)\n",
    "dfrr['nums'] = pd.to_numeric(dfrr['nums'])\n",
    "dfrr = dfrr.drop([\"Subject/Law\", \"Long Guns\",\"Hand Guns\"], axis=1)\n",
    "dfrr['state']='Utah'\n",
    "test=dfrr['state'].count()\n",
    "print(test)\n",
    "#dfrr.dtypes"
   ]
  },
  {
   "cell_type": "code",
   "execution_count": 51,
   "id": "e31e77dc",
   "metadata": {},
   "outputs": [
    {
     "name": "stdout",
     "output_type": "stream",
     "text": [
      "11\n"
     ]
    }
   ],
   "source": [
    "wikiurl=\"https://en.wikipedia.org/wiki/Gun_laws_in_Vermont\"\n",
    "tables = pd.read_html(wikiurl)\n",
    "dfss=pd.DataFrame(tables[0])\n",
    "dfss = dfss.drop([\"Notes\", \"Relevant Statutes\"], axis=1)\n",
    "dfss['state']='Vermont'\n",
    "def func(row):\n",
    "    if row['Long guns'] == 'Yes':\n",
    "        return '1'\n",
    "    elif row['Handguns'] =='Yes':\n",
    "        return '1' \n",
    "    else:\n",
    "        return '0'\n",
    "\n",
    "dfss['nums'] = dfss.apply(func, axis=1)\n",
    "dfss['nums'] = pd.to_numeric(dfss['nums'])\n",
    "dfss = dfss.drop([\"Subject/Law\", \"Long guns\",\"Handguns\"], axis=1)\n",
    "dfss['state']='Vermont'\n",
    "test=dfss['state'].count()\n",
    "print(test)\n",
    "#dfss.dtypes"
   ]
  },
  {
   "cell_type": "code",
   "execution_count": 52,
   "id": "6024b69b",
   "metadata": {},
   "outputs": [
    {
     "name": "stdout",
     "output_type": "stream",
     "text": [
      "11\n"
     ]
    }
   ],
   "source": [
    "wikiurl=\"https://en.wikipedia.org/wiki/Gun_laws_in_Virginia\"\n",
    "tables = pd.read_html(wikiurl)\n",
    "dftt=pd.DataFrame(tables[0])\n",
    "dftt = dftt.drop([\"Notes\", \"Relevant Statutes\"], axis=1)\n",
    "dftt['state']='Virginia'\n",
    "def func(row):\n",
    "    if row['Long Guns'] == 'Yes':\n",
    "        return '1'\n",
    "    elif row['Handguns'] =='Yes':\n",
    "        return '1' \n",
    "    else:\n",
    "        return '0'\n",
    "\n",
    "dftt['nums'] = dftt.apply(func, axis=1)\n",
    "dftt['nums'] = pd.to_numeric(dftt['nums'])\n",
    "dftt = dftt.drop([\"Subject/Law\", \"Long Guns\",\"Handguns\"], axis=1)\n",
    "dftt['state']='Virginia'\n",
    "test=dftt['state'].count()\n",
    "print(test)\n",
    "#dftt.dtypes"
   ]
  },
  {
   "cell_type": "code",
   "execution_count": 53,
   "id": "3ecf66ec",
   "metadata": {},
   "outputs": [
    {
     "name": "stdout",
     "output_type": "stream",
     "text": [
      "14\n"
     ]
    }
   ],
   "source": [
    "wikiurl=\"https://en.wikipedia.org/wiki/Gun_laws_in_Washington\"\n",
    "tables = pd.read_html(wikiurl)\n",
    "dfuu=pd.DataFrame(tables[1]) #another one at index1\n",
    "dfuu = dfuu.drop([\"Notes\", \"Revised Code of Washington\"], axis=1)\n",
    "dfuu['state']='Washington'\n",
    "def func(row):\n",
    "    if row['Long guns'] == 'Yes':\n",
    "        return '1'\n",
    "    elif row['Handguns'] =='Yes':\n",
    "        return '1' \n",
    "    else:\n",
    "        return '0'\n",
    "\n",
    "dfuu['nums'] = dfuu.apply(func, axis=1)\n",
    "dfuu['nums'] = pd.to_numeric(dfuu['nums'])\n",
    "dfuu = dfuu.drop([\"Subject/Law\", \"Long guns\",\"Handguns\"], axis=1)\n",
    "dfuu['state']='Washington'\n",
    "test=dfuu['state'].count()\n",
    "print(test)\n",
    "#dfuu.dtypes"
   ]
  },
  {
   "cell_type": "code",
   "execution_count": 54,
   "id": "765c544e",
   "metadata": {},
   "outputs": [
    {
     "name": "stdout",
     "output_type": "stream",
     "text": [
      "13\n"
     ]
    }
   ],
   "source": [
    "wikiurl=\"https://en.wikipedia.org/wiki/Gun_laws_in_West_Virginia\"\n",
    "tables = pd.read_html(wikiurl)\n",
    "dfvv=pd.DataFrame(tables[0])\n",
    "dfvv = dfvv.drop([\"Notes\", \"Relevant Statutes\"], axis=1)\n",
    "dfvv['state']='West Virginia'\n",
    "def func(row):\n",
    "    if row['Long Guns'] == 'Yes':\n",
    "        return '1'\n",
    "    elif row['Hand Guns'] =='Yes':\n",
    "        return '1' \n",
    "    else:\n",
    "        return '0'\n",
    "\n",
    "dfvv['nums'] = dfvv.apply(func, axis=1)\n",
    "dfvv['nums'] = pd.to_numeric(dfvv['nums'])\n",
    "dfvv = dfvv.drop([\"Subject/Law\", \"Long Guns\",\"Hand Guns\"], axis=1)\n",
    "dfvv['state']='West Virginia'\n",
    "test=dfvv['state'].count()\n",
    "print(test)\n",
    "#dfvv.dtypes"
   ]
  },
  {
   "cell_type": "code",
   "execution_count": 55,
   "id": "77ae7afc",
   "metadata": {},
   "outputs": [
    {
     "name": "stdout",
     "output_type": "stream",
     "text": [
      "12\n"
     ]
    }
   ],
   "source": [
    "wikiurl=\"https://en.wikipedia.org/wiki/Gun_laws_in_Wisconsin\"\n",
    "tables = pd.read_html(wikiurl)\n",
    "dfww=pd.DataFrame(tables[0])\n",
    "dfww = dfww.drop([\"Notes\", \"Relevant Statutes\"], axis=1)\n",
    "dfww['state']='Wisconsin'\n",
    "def func(row):\n",
    "    if row['Long Guns'] == 'Yes':\n",
    "        return '1'\n",
    "    elif row['Hand Guns'] =='Yes':\n",
    "        return '1' \n",
    "    else:\n",
    "        return '0'\n",
    "\n",
    "dfww['nums'] = dfww.apply(func, axis=1)\n",
    "dfww['nums'] = pd.to_numeric(dfww['nums'])\n",
    "dfww = dfww.drop([\"Subject/Law\", \"Long Guns\",\"Hand Guns\"], axis=1)\n",
    "dfww['state']='Wisconsin'\n",
    "test=dfww['state'].count()\n",
    "print(test)\n",
    "#dfww.dtypes"
   ]
  },
  {
   "cell_type": "code",
   "execution_count": 56,
   "id": "b48a58ac",
   "metadata": {},
   "outputs": [
    {
     "name": "stdout",
     "output_type": "stream",
     "text": [
      "11\n"
     ]
    }
   ],
   "source": [
    "wikiurl=\"https://en.wikipedia.org/wiki/Gun_laws_in_Wyoming\"\n",
    "tables = pd.read_html(wikiurl)\n",
    "dfxx=pd.DataFrame(tables[0])\n",
    "dfxx = dfxx.drop([\"Notes\", \"Relevant Statutes\"], axis=1)\n",
    "dfxx['state']='Wyoming'\n",
    "def func(row):\n",
    "    if row['Long Guns'] == 'Yes':\n",
    "        return '1'\n",
    "    elif row['Hand Guns'] =='Yes':\n",
    "        return '1' \n",
    "    else:\n",
    "        return '0'\n",
    "\n",
    "dfxx['nums'] = dfxx.apply(func, axis=1)\n",
    "dfxx['nums'] = pd.to_numeric(dfxx['nums'])\n",
    "dfxx = dfxx.drop([\"Subject/Law\", \"Long Guns\",\"Hand Guns\"], axis=1)\n",
    "dfxx['state']='Wyoming'\n",
    "test=dfxx['state'].count()\n",
    "print(test)\n",
    "#dfxx.dtypes"
   ]
  },
  {
   "cell_type": "code",
   "execution_count": 57,
   "id": "f19a225f",
   "metadata": {},
   "outputs": [
    {
     "data": {
      "text/html": [
       "<div>\n",
       "<style scoped>\n",
       "    .dataframe tbody tr th:only-of-type {\n",
       "        vertical-align: middle;\n",
       "    }\n",
       "\n",
       "    .dataframe tbody tr th {\n",
       "        vertical-align: top;\n",
       "    }\n",
       "\n",
       "    .dataframe thead th {\n",
       "        text-align: right;\n",
       "    }\n",
       "</style>\n",
       "<table border=\"1\" class=\"dataframe\">\n",
       "  <thead>\n",
       "    <tr style=\"text-align: right;\">\n",
       "      <th></th>\n",
       "      <th>state</th>\n",
       "      <th>nums</th>\n",
       "    </tr>\n",
       "  </thead>\n",
       "  <tbody>\n",
       "    <tr>\n",
       "      <th>0</th>\n",
       "      <td>South Dakota</td>\n",
       "      <td>0</td>\n",
       "    </tr>\n",
       "    <tr>\n",
       "      <th>1</th>\n",
       "      <td>South Dakota</td>\n",
       "      <td>0</td>\n",
       "    </tr>\n",
       "    <tr>\n",
       "      <th>2</th>\n",
       "      <td>South Dakota</td>\n",
       "      <td>0</td>\n",
       "    </tr>\n",
       "    <tr>\n",
       "      <th>3</th>\n",
       "      <td>South Dakota</td>\n",
       "      <td>0</td>\n",
       "    </tr>\n",
       "    <tr>\n",
       "      <th>4</th>\n",
       "      <td>South Dakota</td>\n",
       "      <td>0</td>\n",
       "    </tr>\n",
       "  </tbody>\n",
       "</table>\n",
       "</div>"
      ],
      "text/plain": [
       "          state  nums\n",
       "0  South Dakota     0\n",
       "1  South Dakota     0\n",
       "2  South Dakota     0\n",
       "3  South Dakota     0\n",
       "4  South Dakota     0"
      ]
     },
     "execution_count": 57,
     "metadata": {},
     "output_type": "execute_result"
    }
   ],
   "source": [
    "df5=pd.concat([dfoo,dfpp,dfqq,dfrr,dfss,dftt,dfuu,dfvv,dfww,dfxx], axis=0)\n",
    "df5.head()"
   ]
  },
  {
   "cell_type": "code",
   "execution_count": 58,
   "id": "bf501e87",
   "metadata": {},
   "outputs": [
    {
     "data": {
      "text/html": [
       "<div>\n",
       "<style scoped>\n",
       "    .dataframe tbody tr th:only-of-type {\n",
       "        vertical-align: middle;\n",
       "    }\n",
       "\n",
       "    .dataframe tbody tr th {\n",
       "        vertical-align: top;\n",
       "    }\n",
       "\n",
       "    .dataframe thead th {\n",
       "        text-align: right;\n",
       "    }\n",
       "</style>\n",
       "<table border=\"1\" class=\"dataframe\">\n",
       "  <thead>\n",
       "    <tr style=\"text-align: right;\">\n",
       "      <th></th>\n",
       "      <th>state</th>\n",
       "      <th>nums</th>\n",
       "    </tr>\n",
       "  </thead>\n",
       "  <tbody>\n",
       "    <tr>\n",
       "      <th>0</th>\n",
       "      <td>Alabama</td>\n",
       "      <td>0</td>\n",
       "    </tr>\n",
       "    <tr>\n",
       "      <th>1</th>\n",
       "      <td>Alabama</td>\n",
       "      <td>0</td>\n",
       "    </tr>\n",
       "    <tr>\n",
       "      <th>2</th>\n",
       "      <td>Alabama</td>\n",
       "      <td>0</td>\n",
       "    </tr>\n",
       "    <tr>\n",
       "      <th>3</th>\n",
       "      <td>Alabama</td>\n",
       "      <td>0</td>\n",
       "    </tr>\n",
       "    <tr>\n",
       "      <th>4</th>\n",
       "      <td>Alabama</td>\n",
       "      <td>0</td>\n",
       "    </tr>\n",
       "  </tbody>\n",
       "</table>\n",
       "</div>"
      ],
      "text/plain": [
       "     state  nums\n",
       "0  Alabama     0\n",
       "1  Alabama     0\n",
       "2  Alabama     0\n",
       "3  Alabama     0\n",
       "4  Alabama     0"
      ]
     },
     "execution_count": 58,
     "metadata": {},
     "output_type": "execute_result"
    }
   ],
   "source": [
    "df=pd.concat([df1,df2,df3,df4,df5], axis=0)\n",
    "df.head()"
   ]
  },
  {
   "cell_type": "code",
   "execution_count": 59,
   "id": "1fd4934f",
   "metadata": {},
   "outputs": [],
   "source": [
    "#export to csv\n",
    "df.to_csv('../cleaned_data/gun_policy_scrapeV2.csv')"
   ]
  },
  {
   "cell_type": "code",
   "execution_count": null,
   "id": "ca5ff136",
   "metadata": {},
   "outputs": [],
   "source": []
  }
 ],
 "metadata": {
  "kernelspec": {
   "display_name": "Python [conda env:root] *",
   "language": "python",
   "name": "conda-root-py"
  },
  "language_info": {
   "codemirror_mode": {
    "name": "ipython",
    "version": 3
   },
   "file_extension": ".py",
   "mimetype": "text/x-python",
   "name": "python",
   "nbconvert_exporter": "python",
   "pygments_lexer": "ipython3",
   "version": "3.9.12"
  }
 },
 "nbformat": 4,
 "nbformat_minor": 5
}
