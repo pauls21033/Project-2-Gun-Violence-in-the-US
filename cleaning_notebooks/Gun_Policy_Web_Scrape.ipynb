{
 "cells": [
  {
   "cell_type": "code",
   "execution_count": 1,
   "id": "6da9c0ab",
   "metadata": {},
   "outputs": [],
   "source": [
    "import pandas as pd # library for data analysis\n",
    "import requests # library to handle requests\n",
    "from bs4 import BeautifulSoup # library to parse HTML documents"
   ]
  },
  {
   "cell_type": "code",
   "execution_count": 18,
   "id": "e0342495",
   "metadata": {},
   "outputs": [
    {
     "name": "stdout",
     "output_type": "stream",
     "text": [
      "                          Subject/Law Long Guns Hand Guns    state\n",
      "0  State permit required to purchase?        No        No  Alabama\n",
      "1               Firearm registration?        No        No  Alabama\n",
      "2                 Assault weapon law?        No        No  Alabama\n",
      "3      Magazine capacity restriction?        No        No  Alabama\n",
      "4             Owner license required?        No        No  Alabama\n"
     ]
    }
   ],
   "source": [
    "# get the response in the form of html\n",
    "wikiurl=\"https://en.wikipedia.org/wiki/Gun_laws_in_Alabama\"\n",
    "table_class=\"wikitable sortable jquery-tablesorter\"\n",
    "# parse data from the html into a beautifulsoup object\n",
    "soup = BeautifulSoup(response.text, 'html.parser')\n",
    "indiatable=soup.find('table',{'class':\"wikitable\"})\n",
    "dfa=pd.read_html(str(indiatable))\n",
    "# convert list to dataframe\n",
    "dfa=pd.DataFrame(dfa[0])\n",
    "dfa = dfa.drop([\"Notes\", \"Relevant Statutes\"], axis=1)\n",
    "#add column for State\n",
    "dfa['state']='Alabama'\n",
    "print(dfa.head())"
   ]
  },
  {
   "cell_type": "code",
   "execution_count": 19,
   "id": "e89184e0",
   "metadata": {},
   "outputs": [
    {
     "name": "stdout",
     "output_type": "stream",
     "text": [
      "                          Subject/Law Long Guns Hand Guns   state\n",
      "0  State permit required to purchase?        No        No  Alaska\n",
      "1               Firearm registration?        No        No  Alaska\n",
      "2                 Assault weapon law?        No        No  Alaska\n",
      "3      Magazine capacity restriction?        No        No  Alaska\n",
      "4             Owner license required?        No        No  Alaska\n"
     ]
    }
   ],
   "source": [
    "# get the response in the form of html\n",
    "wikiurl=\"https://en.wikipedia.org/wiki/Gun_laws_in_Alaska\"\n",
    "table_class=\"wikitable sortable jquery-tablesorter\"\n",
    "# parse data from the html into a beautifulsoup object\n",
    "soup = BeautifulSoup(response.text, 'html.parser')\n",
    "indiatable=soup.find('table',{'class':\"wikitable\"})\n",
    "dfb=pd.read_html(str(indiatable))\n",
    "# convert list to dataframe\n",
    "dfb=pd.DataFrame(dfb[0])\n",
    "dfb = dfb.drop([\"Notes\", \"Relevant Statutes\"], axis=1)\n",
    "#add column for State\n",
    "dfb['state']='Alaska'\n",
    "print(dfb.head())"
   ]
  },
  {
   "cell_type": "code",
   "execution_count": 20,
   "id": "42d28470",
   "metadata": {},
   "outputs": [
    {
     "name": "stdout",
     "output_type": "stream",
     "text": [
      "                          Subject/Law Long Guns Hand Guns    state\n",
      "0  State permit required to purchase?        No        No  Arizona\n",
      "1               Firearm registration?        No        No  Arizona\n",
      "2                 Assault weapon law?        No        No  Arizona\n",
      "3      Magazine capacity restriction?        No        No  Arizona\n",
      "4             Owner license required?        No        No  Arizona\n"
     ]
    }
   ],
   "source": [
    "# get the response in the form of html\n",
    "wikiurl=\"https://en.wikipedia.org/wiki/Gun_laws_in_Arizona\"\n",
    "table_class=\"wikitable sortable jquery-tablesorter\"\n",
    "# parse data from the html into a beautifulsoup object\n",
    "soup = BeautifulSoup(response.text, 'html.parser')\n",
    "indiatable=soup.find('table',{'class':\"wikitable\"})\n",
    "dfc=pd.read_html(str(indiatable))\n",
    "# convert list to dataframe\n",
    "dfc=pd.DataFrame(dfc[0])\n",
    "dfc = dfc.drop([\"Notes\", \"Relevant Statutes\"], axis=1)\n",
    "#add column for State\n",
    "dfc['state']='Arizona'\n",
    "print(dfc.head())"
   ]
  },
  {
   "cell_type": "code",
   "execution_count": 21,
   "id": "500eaa9e",
   "metadata": {},
   "outputs": [
    {
     "name": "stdout",
     "output_type": "stream",
     "text": [
      "                          Subject/Law Long Guns Hand Guns     state\n",
      "0  State permit required to purchase?        No        No  Arkansas\n",
      "1               Firearm registration?        No        No  Arkansas\n",
      "2                 Assault weapon law?        No        No  Arkansas\n",
      "3      Magazine capacity restriction?        No        No  Arkansas\n",
      "4             Owner license required?        No        No  Arkansas\n"
     ]
    }
   ],
   "source": [
    "# get the response in the form of html\n",
    "wikiurl=\"https://en.wikipedia.org/wiki/Gun_laws_in_Arkansas\"\n",
    "table_class=\"wikitable sortable jquery-tablesorter\"\n",
    "# parse data from the html into a beautifulsoup object\n",
    "soup = BeautifulSoup(response.text, 'html.parser')\n",
    "indiatable=soup.find('table',{'class':\"wikitable\"})\n",
    "dfd=pd.read_html(str(indiatable))\n",
    "# convert list to dataframe\n",
    "dfd=pd.DataFrame(dfd[0])\n",
    "dfd = dfd.drop([\"Notes\", \"Relevant Statutes\"], axis=1)\n",
    "#add column for State\n",
    "dfd['state']='Arkansas'\n",
    "print(dfd.head())"
   ]
  },
  {
   "cell_type": "code",
   "execution_count": 22,
   "id": "1cbbd42b",
   "metadata": {},
   "outputs": [
    {
     "name": "stdout",
     "output_type": "stream",
     "text": [
      "                          Subject/Law Long Guns Hand Guns       state\n",
      "0  State permit required to purchase?        No        No  California\n",
      "1               Firearm registration?        No        No  California\n",
      "2                 Assault weapon law?        No        No  California\n",
      "3      Magazine capacity restriction?        No        No  California\n",
      "4             Owner license required?        No        No  California\n"
     ]
    }
   ],
   "source": [
    "# get the response in the form of html\n",
    "wikiurl=\"https://en.wikipedia.org/wiki/Gun_laws_in_California\"\n",
    "table_class=\"wikitable sortable jquery-tablesorter\"\n",
    "# parse data from the html into a beautifulsoup object\n",
    "soup = BeautifulSoup(response.text, 'html.parser')\n",
    "indiatable=soup.find('table',{'class':\"wikitable\"})\n",
    "dfe=pd.read_html(str(indiatable))\n",
    "# convert list to dataframe\n",
    "dfe=pd.DataFrame(dfe[0])\n",
    "dfe = dfe.drop([\"Notes\", \"Relevant Statutes\"], axis=1)\n",
    "#add column for State\n",
    "dfe['state']='California'\n",
    "print(dfe.head())"
   ]
  },
  {
   "cell_type": "code",
   "execution_count": 23,
   "id": "144acfac",
   "metadata": {},
   "outputs": [
    {
     "name": "stdout",
     "output_type": "stream",
     "text": [
      "                          Subject/Law Long Guns Hand Guns     state\n",
      "0  State permit required to purchase?        No        No  Colorado\n",
      "1               Firearm registration?        No        No  Colorado\n",
      "2                 Assault weapon law?        No        No  Colorado\n",
      "3      Magazine capacity restriction?        No        No  Colorado\n",
      "4             Owner license required?        No        No  Colorado\n"
     ]
    }
   ],
   "source": [
    "# get the response in the form of html\n",
    "wikiurl=\"https://en.wikipedia.org/wiki/Gun_laws_in_Colorado\"\n",
    "table_class=\"wikitable sortable jquery-tablesorter\"\n",
    "# parse data from the html into a beautifulsoup object\n",
    "soup = BeautifulSoup(response.text, 'html.parser')\n",
    "indiatable=soup.find('table',{'class':\"wikitable\"})\n",
    "dff=pd.read_html(str(indiatable))\n",
    "# convert list to dataframe\n",
    "dff=pd.DataFrame(dff[0])\n",
    "dff = dff.drop([\"Notes\", \"Relevant Statutes\"], axis=1)\n",
    "#add column for State\n",
    "dff['state']='Colorado'\n",
    "print(dff.head())"
   ]
  },
  {
   "cell_type": "code",
   "execution_count": 24,
   "id": "4e9a16f6",
   "metadata": {},
   "outputs": [
    {
     "name": "stdout",
     "output_type": "stream",
     "text": [
      "                          Subject/Law Long Guns Hand Guns        state\n",
      "0  State permit required to purchase?        No        No  Connecticut\n",
      "1               Firearm registration?        No        No  Connecticut\n",
      "2                 Assault weapon law?        No        No  Connecticut\n",
      "3      Magazine capacity restriction?        No        No  Connecticut\n",
      "4             Owner license required?        No        No  Connecticut\n"
     ]
    }
   ],
   "source": [
    "# get the response in the form of html\n",
    "wikiurl=\"https://en.wikipedia.org/wiki/Gun_laws_in_Connecticut\"\n",
    "table_class=\"wikitable sortable jquery-tablesorter\"\n",
    "# parse data from the html into a beautifulsoup object\n",
    "soup = BeautifulSoup(response.text, 'html.parser')\n",
    "indiatable=soup.find('table',{'class':\"wikitable\"})\n",
    "dfg=pd.read_html(str(indiatable))\n",
    "# convert list to dataframe\n",
    "dfg=pd.DataFrame(dfg[0])\n",
    "dfg = dfg.drop([\"Notes\", \"Relevant Statutes\"], axis=1)\n",
    "#add column for State\n",
    "dfg['state']='Connecticut'\n",
    "print(dfg.head())"
   ]
  },
  {
   "cell_type": "code",
   "execution_count": 25,
   "id": "97bde482",
   "metadata": {},
   "outputs": [
    {
     "name": "stdout",
     "output_type": "stream",
     "text": [
      "                          Subject/Law Long Guns Hand Guns     state\n",
      "0  State permit required to purchase?        No        No  Delaware\n",
      "1               Firearm registration?        No        No  Delaware\n",
      "2                 Assault weapon law?        No        No  Delaware\n",
      "3      Magazine capacity restriction?        No        No  Delaware\n",
      "4             Owner license required?        No        No  Delaware\n"
     ]
    }
   ],
   "source": [
    "# get the response in the form of html\n",
    "wikiurl=\"https://en.wikipedia.org/wiki/Gun_laws_in_Delaware\"\n",
    "table_class=\"wikitable sortable jquery-tablesorter\"\n",
    "# parse data from the html into a beautifulsoup object\n",
    "soup = BeautifulSoup(response.text, 'html.parser')\n",
    "indiatable=soup.find('table',{'class':\"wikitable\"})\n",
    "dfh=pd.read_html(str(indiatable))\n",
    "# convert list to dataframe\n",
    "dfh=pd.DataFrame(dfh[0])\n",
    "dfh = dfh.drop([\"Notes\", \"Relevant Statutes\"], axis=1)\n",
    "#add column for State\n",
    "dfh['state']='Delaware'\n",
    "print(dfh.head())"
   ]
  },
  {
   "cell_type": "code",
   "execution_count": 26,
   "id": "11710031",
   "metadata": {},
   "outputs": [
    {
     "name": "stdout",
     "output_type": "stream",
     "text": [
      "                          Subject/Law Long Guns Hand Guns    state\n",
      "0  State permit required to purchase?        No        No  Florida\n",
      "1               Firearm registration?        No        No  Florida\n",
      "2                 Assault weapon law?        No        No  Florida\n",
      "3      Magazine capacity restriction?        No        No  Florida\n",
      "4             Owner license required?        No        No  Florida\n"
     ]
    }
   ],
   "source": [
    "# get the response in the form of html\n",
    "wikiurl=\"https://en.wikipedia.org/wiki/Gun_laws_in_Florida\"\n",
    "table_class=\"wikitable sortable jquery-tablesorter\"\n",
    "# parse data from the html into a beautifulsoup object\n",
    "soup = BeautifulSoup(response.text, 'html.parser')\n",
    "indiatable=soup.find('table',{'class':\"wikitable\"})\n",
    "dfi=pd.read_html(str(indiatable))\n",
    "# convert list to dataframe\n",
    "dfi=pd.DataFrame(dfi[0])\n",
    "dfi = dfi.drop([\"Notes\", \"Relevant Statutes\"], axis=1)\n",
    "#add column for State\n",
    "dfi['state']='Florida'\n",
    "print(dfi.head())"
   ]
  },
  {
   "cell_type": "code",
   "execution_count": 29,
   "id": "43ae319b",
   "metadata": {},
   "outputs": [
    {
     "data": {
      "text/plain": [
       "Subject/Law    object\n",
       "Long Guns      object\n",
       "Hand Guns      object\n",
       "state          object\n",
       "dtype: object"
      ]
     },
     "execution_count": 29,
     "metadata": {},
     "output_type": "execute_result"
    }
   ],
   "source": [
    "# get the response in the form of html\n",
    "wikiurl=\"https://en.wikipedia.org/wiki/Gun_laws_in_Georgia\"\n",
    "table_class=\"wikitable sortable jquery-tablesorter\"\n",
    "# parse data from the html into a beautifulsoup object\n",
    "soup = BeautifulSoup(response.text, 'html.parser')\n",
    "indiatable=soup.find('table',{'class':\"wikitable\"})\n",
    "dfj=pd.read_html(str(indiatable))\n",
    "# convert list to dataframe\n",
    "dfj=pd.DataFrame(dfj[0])\n",
    "dfj = dfj.drop([\"Notes\", \"Relevant Statutes\"], axis=1)\n",
    "#add column for State\n",
    "dfj['state']='Georgia'\n",
    "#print(dfj.head())\n",
    "dfj.dtypes"
   ]
  },
  {
   "cell_type": "code",
   "execution_count": 30,
   "id": "7abdfd79",
   "metadata": {},
   "outputs": [
    {
     "data": {
      "text/html": [
       "<div>\n",
       "<style scoped>\n",
       "    .dataframe tbody tr th:only-of-type {\n",
       "        vertical-align: middle;\n",
       "    }\n",
       "\n",
       "    .dataframe tbody tr th {\n",
       "        vertical-align: top;\n",
       "    }\n",
       "\n",
       "    .dataframe thead th {\n",
       "        text-align: right;\n",
       "    }\n",
       "</style>\n",
       "<table border=\"1\" class=\"dataframe\">\n",
       "  <thead>\n",
       "    <tr style=\"text-align: right;\">\n",
       "      <th></th>\n",
       "      <th>Subject/Law</th>\n",
       "      <th>Long Guns</th>\n",
       "      <th>Hand Guns</th>\n",
       "      <th>state</th>\n",
       "    </tr>\n",
       "  </thead>\n",
       "  <tbody>\n",
       "    <tr>\n",
       "      <th>0</th>\n",
       "      <td>State permit required to purchase?</td>\n",
       "      <td>No</td>\n",
       "      <td>No</td>\n",
       "      <td>Alabama</td>\n",
       "    </tr>\n",
       "    <tr>\n",
       "      <th>1</th>\n",
       "      <td>Firearm registration?</td>\n",
       "      <td>No</td>\n",
       "      <td>No</td>\n",
       "      <td>Alabama</td>\n",
       "    </tr>\n",
       "    <tr>\n",
       "      <th>2</th>\n",
       "      <td>Assault weapon law?</td>\n",
       "      <td>No</td>\n",
       "      <td>No</td>\n",
       "      <td>Alabama</td>\n",
       "    </tr>\n",
       "    <tr>\n",
       "      <th>3</th>\n",
       "      <td>Magazine capacity restriction?</td>\n",
       "      <td>No</td>\n",
       "      <td>No</td>\n",
       "      <td>Alabama</td>\n",
       "    </tr>\n",
       "    <tr>\n",
       "      <th>4</th>\n",
       "      <td>Owner license required?</td>\n",
       "      <td>No</td>\n",
       "      <td>No</td>\n",
       "      <td>Alabama</td>\n",
       "    </tr>\n",
       "  </tbody>\n",
       "</table>\n",
       "</div>"
      ],
      "text/plain": [
       "                          Subject/Law Long Guns Hand Guns    state\n",
       "0  State permit required to purchase?        No        No  Alabama\n",
       "1               Firearm registration?        No        No  Alabama\n",
       "2                 Assault weapon law?        No        No  Alabama\n",
       "3      Magazine capacity restriction?        No        No  Alabama\n",
       "4             Owner license required?        No        No  Alabama"
      ]
     },
     "execution_count": 30,
     "metadata": {},
     "output_type": "execute_result"
    }
   ],
   "source": [
    "#concat the dataframes-part1\n",
    "df1=pd.concat([dfa,dfb,dfc,dfd,dfe,dff,dfg,dfh,dfi,dfj], axis=0)\n",
    "df1.head()"
   ]
  },
  {
   "cell_type": "code",
   "execution_count": 31,
   "id": "2e6aa021",
   "metadata": {},
   "outputs": [
    {
     "name": "stdout",
     "output_type": "stream",
     "text": [
      "                          Subject/Law Long Guns Hand Guns   state\n",
      "0  State permit required to purchase?        No        No  Hawaii\n",
      "1               Firearm registration?        No        No  Hawaii\n",
      "2                 Assault weapon law?        No        No  Hawaii\n",
      "3      Magazine capacity restriction?        No        No  Hawaii\n",
      "4             Owner license required?        No        No  Hawaii\n"
     ]
    }
   ],
   "source": [
    "# get the response in the form of html\n",
    "wikiurl=\"https://en.wikipedia.org/wiki/Gun_laws_in_Hawaii\"\n",
    "table_class=\"wikitable sortable jquery-tablesorter\"\n",
    "# parse data from the html into a beautifulsoup object\n",
    "soup = BeautifulSoup(response.text, 'html.parser')\n",
    "indiatable=soup.find('table',{'class':\"wikitable\"})\n",
    "dfk=pd.read_html(str(indiatable))\n",
    "# convert list to dataframe\n",
    "dfk=pd.DataFrame(dfk[0])\n",
    "dfk = dfk.drop([\"Notes\", \"Relevant Statutes\"], axis=1)\n",
    "#add column for State\n",
    "dfk['state']='Hawaii'\n",
    "print(dfk.head())"
   ]
  },
  {
   "cell_type": "code",
   "execution_count": 32,
   "id": "3628a2b0",
   "metadata": {},
   "outputs": [
    {
     "name": "stdout",
     "output_type": "stream",
     "text": [
      "                          Subject/Law Long Guns Hand Guns  state\n",
      "0  State permit required to purchase?        No        No  Idaho\n",
      "1               Firearm registration?        No        No  Idaho\n",
      "2                 Assault weapon law?        No        No  Idaho\n",
      "3      Magazine capacity restriction?        No        No  Idaho\n",
      "4             Owner license required?        No        No  Idaho\n"
     ]
    }
   ],
   "source": [
    "# get the response in the form of html\n",
    "wikiurl=\"https://en.wikipedia.org/wiki/Gun_laws_in_Idaho\"\n",
    "table_class=\"wikitable sortable jquery-tablesorter\"\n",
    "# parse data from the html into a beautifulsoup object\n",
    "soup = BeautifulSoup(response.text, 'html.parser')\n",
    "indiatable=soup.find('table',{'class':\"wikitable\"})\n",
    "dfl=pd.read_html(str(indiatable))\n",
    "# convert list to dataframe\n",
    "dfl=pd.DataFrame(dfl[0])\n",
    "dfl = dfl.drop([\"Notes\", \"Relevant Statutes\"], axis=1)\n",
    "#add column for State\n",
    "dfl['state']='Idaho'\n",
    "print(dfl.head())"
   ]
  },
  {
   "cell_type": "code",
   "execution_count": 33,
   "id": "b0039272",
   "metadata": {},
   "outputs": [
    {
     "name": "stdout",
     "output_type": "stream",
     "text": [
      "                          Subject/Law Long Guns Hand Guns     state\n",
      "0  State permit required to purchase?        No        No  Illinois\n",
      "1               Firearm registration?        No        No  Illinois\n",
      "2                 Assault weapon law?        No        No  Illinois\n",
      "3      Magazine capacity restriction?        No        No  Illinois\n",
      "4             Owner license required?        No        No  Illinois\n"
     ]
    }
   ],
   "source": [
    "# get the response in the form of html\n",
    "wikiurl=\"https://en.wikipedia.org/wiki/Gun_laws_in_Illinois\"\n",
    "table_class=\"wikitable sortable jquery-tablesorter\"\n",
    "# parse data from the html into a beautifulsoup object\n",
    "soup = BeautifulSoup(response.text, 'html.parser')\n",
    "indiatable=soup.find('table',{'class':\"wikitable\"})\n",
    "dfm=pd.read_html(str(indiatable))\n",
    "# convert list to dataframe\n",
    "dfm=pd.DataFrame(dfm[0])\n",
    "dfm = dfm.drop([\"Notes\", \"Relevant Statutes\"], axis=1)\n",
    "#add column for State\n",
    "dfm['state']='Illinois'\n",
    "print(dfm.head())"
   ]
  },
  {
   "cell_type": "code",
   "execution_count": 34,
   "id": "f1b90b15",
   "metadata": {},
   "outputs": [
    {
     "name": "stdout",
     "output_type": "stream",
     "text": [
      "                          Subject/Law Long Guns Hand Guns    state\n",
      "0  State permit required to purchase?        No        No  Indiana\n",
      "1               Firearm registration?        No        No  Indiana\n",
      "2                 Assault weapon law?        No        No  Indiana\n",
      "3      Magazine capacity restriction?        No        No  Indiana\n",
      "4             Owner license required?        No        No  Indiana\n"
     ]
    }
   ],
   "source": [
    "# get the response in the form of html\n",
    "wikiurl=\"https://en.wikipedia.org/wiki/Gun_laws_in_Indiana\"\n",
    "table_class=\"wikitable sortable jquery-tablesorter\"\n",
    "# parse data from the html into a beautifulsoup object\n",
    "soup = BeautifulSoup(response.text, 'html.parser')\n",
    "indiatable=soup.find('table',{'class':\"wikitable\"})\n",
    "dfn=pd.read_html(str(indiatable))\n",
    "# convert list to dataframe\n",
    "dfn=pd.DataFrame(dfn[0])\n",
    "dfn = dfn.drop([\"Notes\", \"Relevant Statutes\"], axis=1)\n",
    "#add column for State\n",
    "dfn['state']='Indiana'\n",
    "print(dfn.head())"
   ]
  },
  {
   "cell_type": "code",
   "execution_count": 35,
   "id": "1e06784c",
   "metadata": {},
   "outputs": [
    {
     "name": "stdout",
     "output_type": "stream",
     "text": [
      "                          Subject/Law Long Guns Hand Guns state\n",
      "0  State permit required to purchase?        No        No  Iowa\n",
      "1               Firearm registration?        No        No  Iowa\n",
      "2                 Assault weapon law?        No        No  Iowa\n",
      "3      Magazine capacity restriction?        No        No  Iowa\n",
      "4             Owner license required?        No        No  Iowa\n"
     ]
    }
   ],
   "source": [
    "# get the response in the form of html\n",
    "wikiurl=\"https://en.wikipedia.org/wiki/Gun_laws_in_Iowa\"\n",
    "table_class=\"wikitable sortable jquery-tablesorter\"\n",
    "# parse data from the html into a beautifulsoup object\n",
    "soup = BeautifulSoup(response.text, 'html.parser')\n",
    "indiatable=soup.find('table',{'class':\"wikitable\"})\n",
    "dfo=pd.read_html(str(indiatable))\n",
    "# convert list to dataframe\n",
    "dfo=pd.DataFrame(dfo[0])\n",
    "dfo = dfo.drop([\"Notes\", \"Relevant Statutes\"], axis=1)\n",
    "#add column for State\n",
    "dfo['state']='Iowa'\n",
    "print(dfo.head())"
   ]
  },
  {
   "cell_type": "code",
   "execution_count": 36,
   "id": "47b5bb96",
   "metadata": {},
   "outputs": [
    {
     "name": "stdout",
     "output_type": "stream",
     "text": [
      "                          Subject/Law Long Guns Hand Guns   state\n",
      "0  State permit required to purchase?        No        No  Kansas\n",
      "1               Firearm registration?        No        No  Kansas\n",
      "2                 Assault weapon law?        No        No  Kansas\n",
      "3      Magazine capacity restriction?        No        No  Kansas\n",
      "4             Owner license required?        No        No  Kansas\n"
     ]
    }
   ],
   "source": [
    "# get the response in the form of html\n",
    "wikiurl=\"https://en.wikipedia.org/wiki/Gun_laws_in_Kansas\"\n",
    "table_class=\"wikitable sortable jquery-tablesorter\"\n",
    "# parse data from the html into a beautifulsoup object\n",
    "soup = BeautifulSoup(response.text, 'html.parser')\n",
    "indiatable=soup.find('table',{'class':\"wikitable\"})\n",
    "dfp=pd.read_html(str(indiatable))\n",
    "# convert list to dataframe\n",
    "dfp=pd.DataFrame(dfp[0])\n",
    "dfp = dfp.drop([\"Notes\", \"Relevant Statutes\"], axis=1)\n",
    "#add column for State\n",
    "dfp['state']='Kansas'\n",
    "print(dfp.head())"
   ]
  },
  {
   "cell_type": "code",
   "execution_count": 37,
   "id": "6392857f",
   "metadata": {},
   "outputs": [
    {
     "name": "stdout",
     "output_type": "stream",
     "text": [
      "                          Subject/Law Long Guns Hand Guns     state\n",
      "0  State permit required to purchase?        No        No  Kentucky\n",
      "1               Firearm registration?        No        No  Kentucky\n",
      "2                 Assault weapon law?        No        No  Kentucky\n",
      "3      Magazine capacity restriction?        No        No  Kentucky\n",
      "4             Owner license required?        No        No  Kentucky\n"
     ]
    }
   ],
   "source": [
    "# get the response in the form of html\n",
    "wikiurl=\"https://en.wikipedia.org/wiki/Gun_laws_in_Kentucky\"\n",
    "table_class=\"wikitable sortable jquery-tablesorter\"\n",
    "# parse data from the html into a beautifulsoup object\n",
    "soup = BeautifulSoup(response.text, 'html.parser')\n",
    "indiatable=soup.find('table',{'class':\"wikitable\"})\n",
    "dfq=pd.read_html(str(indiatable))\n",
    "# convert list to dataframe\n",
    "dfq=pd.DataFrame(dfq[0])\n",
    "dfq = dfq.drop([\"Notes\", \"Relevant Statutes\"], axis=1)\n",
    "#add column for State\n",
    "dfq['state']='Kentucky'\n",
    "print(dfq.head())"
   ]
  },
  {
   "cell_type": "code",
   "execution_count": 38,
   "id": "655d4e91",
   "metadata": {},
   "outputs": [
    {
     "name": "stdout",
     "output_type": "stream",
     "text": [
      "                          Subject/Law Long Guns Hand Guns      state\n",
      "0  State permit required to purchase?        No        No  Louisiana\n",
      "1               Firearm registration?        No        No  Louisiana\n",
      "2                 Assault weapon law?        No        No  Louisiana\n",
      "3      Magazine capacity restriction?        No        No  Louisiana\n",
      "4             Owner license required?        No        No  Louisiana\n"
     ]
    }
   ],
   "source": [
    "# get the response in the form of html\n",
    "wikiurl=\"https://en.wikipedia.org/wiki/Gun_laws_in_Louisiana\"\n",
    "table_class=\"wikitable sortable jquery-tablesorter\"\n",
    "# parse data from the html into a beautifulsoup object\n",
    "soup = BeautifulSoup(response.text, 'html.parser')\n",
    "indiatable=soup.find('table',{'class':\"wikitable\"})\n",
    "dfr=pd.read_html(str(indiatable))\n",
    "# convert list to dataframe\n",
    "dfr=pd.DataFrame(dfr[0])\n",
    "dfr = dfr.drop([\"Notes\", \"Relevant Statutes\"], axis=1)\n",
    "#add column for State\n",
    "dfr['state']='Louisiana'\n",
    "print(dfr.head())"
   ]
  },
  {
   "cell_type": "code",
   "execution_count": 39,
   "id": "537839d2",
   "metadata": {},
   "outputs": [
    {
     "name": "stdout",
     "output_type": "stream",
     "text": [
      "                          Subject/Law Long Guns Hand Guns  state\n",
      "0  State permit required to purchase?        No        No  Maine\n",
      "1               Firearm registration?        No        No  Maine\n",
      "2                 Assault weapon law?        No        No  Maine\n",
      "3      Magazine capacity restriction?        No        No  Maine\n",
      "4             Owner license required?        No        No  Maine\n"
     ]
    }
   ],
   "source": [
    "# get the response in the form of html\n",
    "wikiurl=\"https://en.wikipedia.org/wiki/Gun_laws_in_Maine\"\n",
    "table_class=\"wikitable sortable jquery-tablesorter\"\n",
    "# parse data from the html into a beautifulsoup object\n",
    "soup = BeautifulSoup(response.text, 'html.parser')\n",
    "indiatable=soup.find('table',{'class':\"wikitable\"})\n",
    "dfs=pd.read_html(str(indiatable))\n",
    "# convert list to dataframe\n",
    "dfs=pd.DataFrame(dfs[0])\n",
    "dfs = dfs.drop([\"Notes\", \"Relevant Statutes\"], axis=1)\n",
    "#add column for State\n",
    "dfs['state']='Maine'\n",
    "print(dfs.head())"
   ]
  },
  {
   "cell_type": "code",
   "execution_count": 40,
   "id": "b068e2ae",
   "metadata": {},
   "outputs": [
    {
     "name": "stdout",
     "output_type": "stream",
     "text": [
      "                          Subject/Law Long Guns Hand Guns     state\n",
      "0  State permit required to purchase?        No        No  Maryland\n",
      "1               Firearm registration?        No        No  Maryland\n",
      "2                 Assault weapon law?        No        No  Maryland\n",
      "3      Magazine capacity restriction?        No        No  Maryland\n",
      "4             Owner license required?        No        No  Maryland\n"
     ]
    }
   ],
   "source": [
    "# get the response in the form of html\n",
    "wikiurl=\"https://en.wikipedia.org/wiki/Gun_laws_in_Maryland\"\n",
    "table_class=\"wikitable sortable jquery-tablesorter\"\n",
    "# parse data from the html into a beautifulsoup object\n",
    "soup = BeautifulSoup(response.text, 'html.parser')\n",
    "indiatable=soup.find('table',{'class':\"wikitable\"})\n",
    "dft=pd.read_html(str(indiatable))\n",
    "# convert list to dataframe\n",
    "dft=pd.DataFrame(dft[0])\n",
    "dft = dft.drop([\"Notes\", \"Relevant Statutes\"], axis=1)\n",
    "#add column for State\n",
    "dft['state']='Maryland'\n",
    "print(dft.head())"
   ]
  },
  {
   "cell_type": "code",
   "execution_count": 41,
   "id": "3a9bca35",
   "metadata": {},
   "outputs": [
    {
     "data": {
      "text/html": [
       "<div>\n",
       "<style scoped>\n",
       "    .dataframe tbody tr th:only-of-type {\n",
       "        vertical-align: middle;\n",
       "    }\n",
       "\n",
       "    .dataframe tbody tr th {\n",
       "        vertical-align: top;\n",
       "    }\n",
       "\n",
       "    .dataframe thead th {\n",
       "        text-align: right;\n",
       "    }\n",
       "</style>\n",
       "<table border=\"1\" class=\"dataframe\">\n",
       "  <thead>\n",
       "    <tr style=\"text-align: right;\">\n",
       "      <th></th>\n",
       "      <th>Subject/Law</th>\n",
       "      <th>Long Guns</th>\n",
       "      <th>Hand Guns</th>\n",
       "      <th>state</th>\n",
       "    </tr>\n",
       "  </thead>\n",
       "  <tbody>\n",
       "    <tr>\n",
       "      <th>0</th>\n",
       "      <td>State permit required to purchase?</td>\n",
       "      <td>No</td>\n",
       "      <td>No</td>\n",
       "      <td>Hawaii</td>\n",
       "    </tr>\n",
       "    <tr>\n",
       "      <th>1</th>\n",
       "      <td>Firearm registration?</td>\n",
       "      <td>No</td>\n",
       "      <td>No</td>\n",
       "      <td>Hawaii</td>\n",
       "    </tr>\n",
       "    <tr>\n",
       "      <th>2</th>\n",
       "      <td>Assault weapon law?</td>\n",
       "      <td>No</td>\n",
       "      <td>No</td>\n",
       "      <td>Hawaii</td>\n",
       "    </tr>\n",
       "    <tr>\n",
       "      <th>3</th>\n",
       "      <td>Magazine capacity restriction?</td>\n",
       "      <td>No</td>\n",
       "      <td>No</td>\n",
       "      <td>Hawaii</td>\n",
       "    </tr>\n",
       "    <tr>\n",
       "      <th>4</th>\n",
       "      <td>Owner license required?</td>\n",
       "      <td>No</td>\n",
       "      <td>No</td>\n",
       "      <td>Hawaii</td>\n",
       "    </tr>\n",
       "  </tbody>\n",
       "</table>\n",
       "</div>"
      ],
      "text/plain": [
       "                          Subject/Law Long Guns Hand Guns   state\n",
       "0  State permit required to purchase?        No        No  Hawaii\n",
       "1               Firearm registration?        No        No  Hawaii\n",
       "2                 Assault weapon law?        No        No  Hawaii\n",
       "3      Magazine capacity restriction?        No        No  Hawaii\n",
       "4             Owner license required?        No        No  Hawaii"
      ]
     },
     "execution_count": 41,
     "metadata": {},
     "output_type": "execute_result"
    }
   ],
   "source": [
    "#concat the dataframes-part1\n",
    "df2=pd.concat([dfk,dfl,dfm,dfm,dfo,dfp,dfq,dfr,dfs,dft], axis=0)\n",
    "df2.head()"
   ]
  },
  {
   "cell_type": "code",
   "execution_count": 42,
   "id": "f1c7a25d",
   "metadata": {},
   "outputs": [
    {
     "name": "stdout",
     "output_type": "stream",
     "text": [
      "                          Subject/Law Long Guns Hand Guns          state\n",
      "0  State permit required to purchase?        No        No  Massachusetts\n",
      "1               Firearm registration?        No        No  Massachusetts\n",
      "2                 Assault weapon law?        No        No  Massachusetts\n",
      "3      Magazine capacity restriction?        No        No  Massachusetts\n",
      "4             Owner license required?        No        No  Massachusetts\n"
     ]
    }
   ],
   "source": [
    "# get the response in the form of html\n",
    "wikiurl=\"https://en.wikipedia.org/wiki/Gun_laws_in_Massachusetts\"\n",
    "table_class=\"wikitable sortable jquery-tablesorter\"\n",
    "# parse data from the html into a beautifulsoup object\n",
    "soup = BeautifulSoup(response.text, 'html.parser')\n",
    "indiatable=soup.find('table',{'class':\"wikitable\"})\n",
    "dfu=pd.read_html(str(indiatable))\n",
    "# convert list to dataframe\n",
    "dfu=pd.DataFrame(dfu[0])\n",
    "dfu = dfu.drop([\"Notes\", \"Relevant Statutes\"], axis=1)\n",
    "#add column for State\n",
    "dfu['state']='Massachusetts'\n",
    "print(dfu.head())"
   ]
  },
  {
   "cell_type": "code",
   "execution_count": 43,
   "id": "5439f751",
   "metadata": {},
   "outputs": [
    {
     "name": "stdout",
     "output_type": "stream",
     "text": [
      "                          Subject/Law Long Guns Hand Guns     state\n",
      "0  State permit required to purchase?        No        No  Michigan\n",
      "1               Firearm registration?        No        No  Michigan\n",
      "2                 Assault weapon law?        No        No  Michigan\n",
      "3      Magazine capacity restriction?        No        No  Michigan\n",
      "4             Owner license required?        No        No  Michigan\n"
     ]
    }
   ],
   "source": [
    "# get the response in the form of html\n",
    "wikiurl=\"https://en.wikipedia.org/wiki/Gun_laws_in_Michigan\"\n",
    "table_class=\"wikitable sortable jquery-tablesorter\"\n",
    "# parse data from the html into a beautifulsoup object\n",
    "soup = BeautifulSoup(response.text, 'html.parser')\n",
    "indiatable=soup.find('table',{'class':\"wikitable\"})\n",
    "dfv=pd.read_html(str(indiatable))\n",
    "# convert list to dataframe\n",
    "dfv=pd.DataFrame(dfv[0])\n",
    "dfv = dfv.drop([\"Notes\", \"Relevant Statutes\"], axis=1)\n",
    "#add column for State\n",
    "dfv['state']='Michigan'\n",
    "print(dfv.head())"
   ]
  },
  {
   "cell_type": "code",
   "execution_count": 44,
   "id": "16b66909",
   "metadata": {},
   "outputs": [
    {
     "name": "stdout",
     "output_type": "stream",
     "text": [
      "                          Subject/Law Long Guns Hand Guns      state\n",
      "0  State permit required to purchase?        No        No  Minnesota\n",
      "1               Firearm registration?        No        No  Minnesota\n",
      "2                 Assault weapon law?        No        No  Minnesota\n",
      "3      Magazine capacity restriction?        No        No  Minnesota\n",
      "4             Owner license required?        No        No  Minnesota\n"
     ]
    }
   ],
   "source": [
    "# get the response in the form of html\n",
    "wikiurl=\"https://en.wikipedia.org/wiki/Gun_laws_in_Minnesota\"\n",
    "table_class=\"wikitable sortable jquery-tablesorter\"\n",
    "# parse data from the html into a beautifulsoup object\n",
    "soup = BeautifulSoup(response.text, 'html.parser')\n",
    "indiatable=soup.find('table',{'class':\"wikitable\"})\n",
    "dfw=pd.read_html(str(indiatable))\n",
    "# convert list to dataframe\n",
    "dfw=pd.DataFrame(dfw[0])\n",
    "dfw = dfw.drop([\"Notes\", \"Relevant Statutes\"], axis=1)\n",
    "#add column for State\n",
    "dfw['state']='Minnesota'\n",
    "print(dfw.head())"
   ]
  },
  {
   "cell_type": "code",
   "execution_count": 45,
   "id": "ebe64e33",
   "metadata": {},
   "outputs": [
    {
     "name": "stdout",
     "output_type": "stream",
     "text": [
      "                          Subject/Law Long Guns Hand Guns        state\n",
      "0  State permit required to purchase?        No        No  Mississippi\n",
      "1               Firearm registration?        No        No  Mississippi\n",
      "2                 Assault weapon law?        No        No  Mississippi\n",
      "3      Magazine capacity restriction?        No        No  Mississippi\n",
      "4             Owner license required?        No        No  Mississippi\n"
     ]
    }
   ],
   "source": [
    "# get the response in the form of html\n",
    "wikiurl=\"https://en.wikipedia.org/wiki/Gun_laws_in_Mississippi\"\n",
    "table_class=\"wikitable sortable jquery-tablesorter\"\n",
    "# parse data from the html into a beautifulsoup object\n",
    "soup = BeautifulSoup(response.text, 'html.parser')\n",
    "indiatable=soup.find('table',{'class':\"wikitable\"})\n",
    "dfx=pd.read_html(str(indiatable))\n",
    "# convert list to dataframe\n",
    "dfx=pd.DataFrame(dfx[0])\n",
    "dfx = dfx.drop([\"Notes\", \"Relevant Statutes\"], axis=1)\n",
    "#add column for State\n",
    "dfx['state']='Mississippi'\n",
    "print(dfx.head())"
   ]
  },
  {
   "cell_type": "code",
   "execution_count": 46,
   "id": "1efd8332",
   "metadata": {},
   "outputs": [
    {
     "name": "stdout",
     "output_type": "stream",
     "text": [
      "                          Subject/Law Long Guns Hand Guns     state\n",
      "0  State permit required to purchase?        No        No  Missouri\n",
      "1               Firearm registration?        No        No  Missouri\n",
      "2                 Assault weapon law?        No        No  Missouri\n",
      "3      Magazine capacity restriction?        No        No  Missouri\n",
      "4             Owner license required?        No        No  Missouri\n"
     ]
    }
   ],
   "source": [
    "# get the response in the form of html\n",
    "wikiurl=\"https://en.wikipedia.org/wiki/Gun_laws_in_Missouri\"\n",
    "table_class=\"wikitable sortable jquery-tablesorter\"\n",
    "# parse data from the html into a beautifulsoup object\n",
    "soup = BeautifulSoup(response.text, 'html.parser')\n",
    "indiatable=soup.find('table',{'class':\"wikitable\"})\n",
    "dfy=pd.read_html(str(indiatable))\n",
    "# convert list to dataframe\n",
    "dfy=pd.DataFrame(dfy[0])\n",
    "dfy = dfy.drop([\"Notes\", \"Relevant Statutes\"], axis=1)\n",
    "#add column for State\n",
    "dfy['state']='Missouri'\n",
    "print(dfy.head())"
   ]
  },
  {
   "cell_type": "code",
   "execution_count": 47,
   "id": "a8d94e2b",
   "metadata": {},
   "outputs": [
    {
     "name": "stdout",
     "output_type": "stream",
     "text": [
      "                          Subject/Law Long Guns Hand Guns    state\n",
      "0  State permit required to purchase?        No        No  Montana\n",
      "1               Firearm registration?        No        No  Montana\n",
      "2                 Assault weapon law?        No        No  Montana\n",
      "3      Magazine capacity restriction?        No        No  Montana\n",
      "4             Owner license required?        No        No  Montana\n"
     ]
    }
   ],
   "source": [
    "# get the response in the form of html\n",
    "wikiurl=\"https://en.wikipedia.org/wiki/Gun_laws_in_Montana\"\n",
    "table_class=\"wikitable sortable jquery-tablesorter\"\n",
    "# parse data from the html into a beautifulsoup object\n",
    "soup = BeautifulSoup(response.text, 'html.parser')\n",
    "indiatable=soup.find('table',{'class':\"wikitable\"})\n",
    "dfz=pd.read_html(str(indiatable))\n",
    "# convert list to dataframe\n",
    "dfz=pd.DataFrame(dfz[0])\n",
    "dfz = dfz.drop([\"Notes\", \"Relevant Statutes\"], axis=1)\n",
    "#add column for State\n",
    "dfz['state']='Montana'\n",
    "print(dfz.head())"
   ]
  },
  {
   "cell_type": "code",
   "execution_count": 48,
   "id": "b7ef8955",
   "metadata": {},
   "outputs": [
    {
     "name": "stdout",
     "output_type": "stream",
     "text": [
      "                          Subject/Law Long Guns Hand Guns     state\n",
      "0  State permit required to purchase?        No        No  Nebraska\n",
      "1               Firearm registration?        No        No  Nebraska\n",
      "2                 Assault weapon law?        No        No  Nebraska\n",
      "3      Magazine capacity restriction?        No        No  Nebraska\n",
      "4             Owner license required?        No        No  Nebraska\n"
     ]
    }
   ],
   "source": [
    "# get the response in the form of html\n",
    "wikiurl=\"https://en.wikipedia.org/wiki/Gun_laws_in_Nebraska\"\n",
    "table_class=\"wikitable sortable jquery-tablesorter\"\n",
    "# parse data from the html into a beautifulsoup object\n",
    "soup = BeautifulSoup(response.text, 'html.parser')\n",
    "indiatable=soup.find('table',{'class':\"wikitable\"})\n",
    "dfaa=pd.read_html(str(indiatable))\n",
    "# convert list to dataframe\n",
    "dfaa=pd.DataFrame(dfaa[0])\n",
    "dfaa = dfaa.drop([\"Notes\", \"Relevant Statutes\"], axis=1)\n",
    "#add column for State\n",
    "dfaa['state']='Nebraska'\n",
    "print(dfaa.head())"
   ]
  },
  {
   "cell_type": "code",
   "execution_count": 49,
   "id": "1c8e5875",
   "metadata": {},
   "outputs": [
    {
     "name": "stdout",
     "output_type": "stream",
     "text": [
      "                          Subject/Law Long Guns Hand Guns   state\n",
      "0  State permit required to purchase?        No        No  Nevada\n",
      "1               Firearm registration?        No        No  Nevada\n",
      "2                 Assault weapon law?        No        No  Nevada\n",
      "3      Magazine capacity restriction?        No        No  Nevada\n",
      "4             Owner license required?        No        No  Nevada\n"
     ]
    }
   ],
   "source": [
    "# get the response in the form of html\n",
    "wikiurl=\"https://en.wikipedia.org/wiki/Gun_laws_in_Nevada\"\n",
    "table_class=\"wikitable sortable jquery-tablesorter\"\n",
    "# parse data from the html into a beautifulsoup object\n",
    "soup = BeautifulSoup(response.text, 'html.parser')\n",
    "indiatable=soup.find('table',{'class':\"wikitable\"})\n",
    "dfbb=pd.read_html(str(indiatable))\n",
    "# convert list to dataframe\n",
    "dfbb=pd.DataFrame(dfbb[0])\n",
    "dfbb = dfbb.drop([\"Notes\", \"Relevant Statutes\"], axis=1)\n",
    "#add column for State\n",
    "dfbb['state']='Nevada'\n",
    "print(dfbb.head())"
   ]
  },
  {
   "cell_type": "code",
   "execution_count": 50,
   "id": "9fbbc910",
   "metadata": {},
   "outputs": [
    {
     "name": "stdout",
     "output_type": "stream",
     "text": [
      "                          Subject/Law Long Guns Hand Guns          state\n",
      "0  State permit required to purchase?        No        No  New Hampshire\n",
      "1               Firearm registration?        No        No  New Hampshire\n",
      "2                 Assault weapon law?        No        No  New Hampshire\n",
      "3      Magazine capacity restriction?        No        No  New Hampshire\n",
      "4             Owner license required?        No        No  New Hampshire\n"
     ]
    }
   ],
   "source": [
    "# get the response in the form of html\n",
    "wikiurl=\"https://en.wikipedia.org/wiki/Gun_laws_in_New Hampshire\"\n",
    "table_class=\"wikitable sortable jquery-tablesorter\"\n",
    "# parse data from the html into a beautifulsoup object\n",
    "soup = BeautifulSoup(response.text, 'html.parser')\n",
    "indiatable=soup.find('table',{'class':\"wikitable\"})\n",
    "dfcc=pd.read_html(str(indiatable))\n",
    "# convert list to dataframe\n",
    "dfcc=pd.DataFrame(dfcc[0])\n",
    "dfcc = dfcc.drop([\"Notes\", \"Relevant Statutes\"], axis=1)\n",
    "#add column for State\n",
    "dfcc['state']='New Hampshire'\n",
    "print(dfcc.head())"
   ]
  },
  {
   "cell_type": "code",
   "execution_count": 51,
   "id": "c2b3e516",
   "metadata": {},
   "outputs": [
    {
     "name": "stdout",
     "output_type": "stream",
     "text": [
      "                          Subject/Law Long Guns Hand Guns       state\n",
      "0  State permit required to purchase?        No        No  New Jersey\n",
      "1               Firearm registration?        No        No  New Jersey\n",
      "2                 Assault weapon law?        No        No  New Jersey\n",
      "3      Magazine capacity restriction?        No        No  New Jersey\n",
      "4             Owner license required?        No        No  New Jersey\n"
     ]
    }
   ],
   "source": [
    "# get the response in the form of html\n",
    "wikiurl=\"https://en.wikipedia.org/wiki/Gun_laws_in_New Jersey\"\n",
    "table_class=\"wikitable sortable jquery-tablesorter\"\n",
    "# parse data from the html into a beautifulsoup object\n",
    "soup = BeautifulSoup(response.text, 'html.parser')\n",
    "indiatable=soup.find('table',{'class':\"wikitable\"})\n",
    "dfdd=pd.read_html(str(indiatable))\n",
    "# convert list to dataframe\n",
    "dfdd=pd.DataFrame(dfdd[0])\n",
    "dfdd = dfdd.drop([\"Notes\", \"Relevant Statutes\"], axis=1)\n",
    "#add column for State\n",
    "dfdd['state']='New Jersey'\n",
    "print(dfdd.head())"
   ]
  },
  {
   "cell_type": "code",
   "execution_count": 52,
   "id": "c038c7f2",
   "metadata": {},
   "outputs": [
    {
     "data": {
      "text/html": [
       "<div>\n",
       "<style scoped>\n",
       "    .dataframe tbody tr th:only-of-type {\n",
       "        vertical-align: middle;\n",
       "    }\n",
       "\n",
       "    .dataframe tbody tr th {\n",
       "        vertical-align: top;\n",
       "    }\n",
       "\n",
       "    .dataframe thead th {\n",
       "        text-align: right;\n",
       "    }\n",
       "</style>\n",
       "<table border=\"1\" class=\"dataframe\">\n",
       "  <thead>\n",
       "    <tr style=\"text-align: right;\">\n",
       "      <th></th>\n",
       "      <th>Subject/Law</th>\n",
       "      <th>Long Guns</th>\n",
       "      <th>Hand Guns</th>\n",
       "      <th>state</th>\n",
       "    </tr>\n",
       "  </thead>\n",
       "  <tbody>\n",
       "    <tr>\n",
       "      <th>0</th>\n",
       "      <td>State permit required to purchase?</td>\n",
       "      <td>No</td>\n",
       "      <td>No</td>\n",
       "      <td>Massachusetts</td>\n",
       "    </tr>\n",
       "    <tr>\n",
       "      <th>1</th>\n",
       "      <td>Firearm registration?</td>\n",
       "      <td>No</td>\n",
       "      <td>No</td>\n",
       "      <td>Massachusetts</td>\n",
       "    </tr>\n",
       "    <tr>\n",
       "      <th>2</th>\n",
       "      <td>Assault weapon law?</td>\n",
       "      <td>No</td>\n",
       "      <td>No</td>\n",
       "      <td>Massachusetts</td>\n",
       "    </tr>\n",
       "    <tr>\n",
       "      <th>3</th>\n",
       "      <td>Magazine capacity restriction?</td>\n",
       "      <td>No</td>\n",
       "      <td>No</td>\n",
       "      <td>Massachusetts</td>\n",
       "    </tr>\n",
       "    <tr>\n",
       "      <th>4</th>\n",
       "      <td>Owner license required?</td>\n",
       "      <td>No</td>\n",
       "      <td>No</td>\n",
       "      <td>Massachusetts</td>\n",
       "    </tr>\n",
       "  </tbody>\n",
       "</table>\n",
       "</div>"
      ],
      "text/plain": [
       "                          Subject/Law Long Guns Hand Guns          state\n",
       "0  State permit required to purchase?        No        No  Massachusetts\n",
       "1               Firearm registration?        No        No  Massachusetts\n",
       "2                 Assault weapon law?        No        No  Massachusetts\n",
       "3      Magazine capacity restriction?        No        No  Massachusetts\n",
       "4             Owner license required?        No        No  Massachusetts"
      ]
     },
     "execution_count": 52,
     "metadata": {},
     "output_type": "execute_result"
    }
   ],
   "source": [
    "df3=pd.concat([dfu,dfv,dfw,dfx,dfy,dfz,dfaa,dfbb,dfcc,dfdd], axis=0)\n",
    "df3.head()"
   ]
  },
  {
   "cell_type": "code",
   "execution_count": 53,
   "id": "531c1e80",
   "metadata": {},
   "outputs": [
    {
     "name": "stdout",
     "output_type": "stream",
     "text": [
      "                          Subject/Law Long Guns Hand Guns       state\n",
      "0  State permit required to purchase?        No        No  New Mexico\n",
      "1               Firearm registration?        No        No  New Mexico\n",
      "2                 Assault weapon law?        No        No  New Mexico\n",
      "3      Magazine capacity restriction?        No        No  New Mexico\n",
      "4             Owner license required?        No        No  New Mexico\n"
     ]
    }
   ],
   "source": [
    "# get the response in the form of html\n",
    "wikiurl=\"https://en.wikipedia.org/wiki/Gun_laws_in_New Mexico\"\n",
    "table_class=\"wikitable sortable jquery-tablesorter\"\n",
    "# parse data from the html into a beautifulsoup object\n",
    "soup = BeautifulSoup(response.text, 'html.parser')\n",
    "indiatable=soup.find('table',{'class':\"wikitable\"})\n",
    "dfee=pd.read_html(str(indiatable))\n",
    "# convert list to dataframe\n",
    "dfee=pd.DataFrame(dfee[0])\n",
    "dfee = dfee.drop([\"Notes\", \"Relevant Statutes\"], axis=1)\n",
    "#add column for State\n",
    "dfee['state']='New Mexico'\n",
    "print(dfee.head())"
   ]
  },
  {
   "cell_type": "code",
   "execution_count": 54,
   "id": "b1289562",
   "metadata": {},
   "outputs": [
    {
     "name": "stdout",
     "output_type": "stream",
     "text": [
      "                          Subject/Law Long Guns Hand Guns     state\n",
      "0  State permit required to purchase?        No        No  New York\n",
      "1               Firearm registration?        No        No  New York\n",
      "2                 Assault weapon law?        No        No  New York\n",
      "3      Magazine capacity restriction?        No        No  New York\n",
      "4             Owner license required?        No        No  New York\n"
     ]
    }
   ],
   "source": [
    "# get the response in the form of html\n",
    "wikiurl=\"https://en.wikipedia.org/wiki/Gun_laws_in_New York\"\n",
    "table_class=\"wikitable sortable jquery-tablesorter\"\n",
    "# parse data from the html into a beautifulsoup object\n",
    "soup = BeautifulSoup(response.text, 'html.parser')\n",
    "indiatable=soup.find('table',{'class':\"wikitable\"})\n",
    "dfff=pd.read_html(str(indiatable))\n",
    "# convert list to dataframe\n",
    "dfff=pd.DataFrame(dfff[0])\n",
    "dfff = dfff.drop([\"Notes\", \"Relevant Statutes\"], axis=1)\n",
    "#add column for State\n",
    "dfff['state']='New York'\n",
    "print(dfff.head())"
   ]
  },
  {
   "cell_type": "code",
   "execution_count": 55,
   "id": "e218d264",
   "metadata": {},
   "outputs": [
    {
     "name": "stdout",
     "output_type": "stream",
     "text": [
      "                          Subject/Law Long Guns Hand Guns           state\n",
      "0  State permit required to purchase?        No        No  North Carolina\n",
      "1               Firearm registration?        No        No  North Carolina\n",
      "2                 Assault weapon law?        No        No  North Carolina\n",
      "3      Magazine capacity restriction?        No        No  North Carolina\n",
      "4             Owner license required?        No        No  North Carolina\n"
     ]
    }
   ],
   "source": [
    "# get the response in the form of html\n",
    "wikiurl=\"https://en.wikipedia.org/wiki/Gun_laws_in_North Carolina\"\n",
    "table_class=\"wikitable sortable jquery-tablesorter\"\n",
    "# parse data from the html into a beautifulsoup object\n",
    "soup = BeautifulSoup(response.text, 'html.parser')\n",
    "indiatable=soup.find('table',{'class':\"wikitable\"})\n",
    "dfgg=pd.read_html(str(indiatable))\n",
    "# convert list to dataframe\n",
    "dfgg=pd.DataFrame(dfgg[0])\n",
    "dfgg = dfgg.drop([\"Notes\", \"Relevant Statutes\"], axis=1)\n",
    "#add column for State\n",
    "dfgg['state']='North Carolina'\n",
    "print(dfgg.head())"
   ]
  },
  {
   "cell_type": "code",
   "execution_count": 56,
   "id": "1eb80fb8",
   "metadata": {},
   "outputs": [
    {
     "name": "stdout",
     "output_type": "stream",
     "text": [
      "                          Subject/Law Long Guns Hand Guns         state\n",
      "0  State permit required to purchase?        No        No  North Dakota\n",
      "1               Firearm registration?        No        No  North Dakota\n",
      "2                 Assault weapon law?        No        No  North Dakota\n",
      "3      Magazine capacity restriction?        No        No  North Dakota\n",
      "4             Owner license required?        No        No  North Dakota\n"
     ]
    }
   ],
   "source": [
    "# get the response in the form of html\n",
    "wikiurl=\"https://en.wikipedia.org/wiki/Gun_laws_in_North Dakota\"\n",
    "table_class=\"wikitable sortable jquery-tablesorter\"\n",
    "# parse data from the html into a beautifulsoup object\n",
    "soup = BeautifulSoup(response.text, 'html.parser')\n",
    "indiatable=soup.find('table',{'class':\"wikitable\"})\n",
    "dfhh=pd.read_html(str(indiatable))\n",
    "# convert list to dataframe\n",
    "dfhh=pd.DataFrame(dfhh[0])\n",
    "dfhh = dfhh.drop([\"Notes\", \"Relevant Statutes\"], axis=1)\n",
    "#add column for State\n",
    "dfhh['state']='North Dakota'\n",
    "print(dfhh.head())"
   ]
  },
  {
   "cell_type": "code",
   "execution_count": 57,
   "id": "103b6bc3",
   "metadata": {},
   "outputs": [
    {
     "name": "stdout",
     "output_type": "stream",
     "text": [
      "                          Subject/Law Long Guns Hand Guns state\n",
      "0  State permit required to purchase?        No        No  Ohio\n",
      "1               Firearm registration?        No        No  Ohio\n",
      "2                 Assault weapon law?        No        No  Ohio\n",
      "3      Magazine capacity restriction?        No        No  Ohio\n",
      "4             Owner license required?        No        No  Ohio\n"
     ]
    }
   ],
   "source": [
    "# get the response in the form of html\n",
    "wikiurl=\"https://en.wikipedia.org/wiki/Gun_laws_in_Ohio\"\n",
    "table_class=\"wikitable sortable jquery-tablesorter\"\n",
    "# parse data from the html into a beautifulsoup object\n",
    "soup = BeautifulSoup(response.text, 'html.parser')\n",
    "indiatable=soup.find('table',{'class':\"wikitable\"})\n",
    "dfii=pd.read_html(str(indiatable))\n",
    "# convert list to dataframe\n",
    "dfii=pd.DataFrame(dfii[0])\n",
    "dfii = dfii.drop([\"Notes\", \"Relevant Statutes\"], axis=1)\n",
    "#add column for State\n",
    "dfii['state']='Ohio'\n",
    "print(dfii.head())"
   ]
  },
  {
   "cell_type": "code",
   "execution_count": 58,
   "id": "5446572a",
   "metadata": {},
   "outputs": [
    {
     "name": "stdout",
     "output_type": "stream",
     "text": [
      "                          Subject/Law Long Guns Hand Guns     state\n",
      "0  State permit required to purchase?        No        No  Oklahoma\n",
      "1               Firearm registration?        No        No  Oklahoma\n",
      "2                 Assault weapon law?        No        No  Oklahoma\n",
      "3      Magazine capacity restriction?        No        No  Oklahoma\n",
      "4             Owner license required?        No        No  Oklahoma\n"
     ]
    }
   ],
   "source": [
    "# get the response in the form of html\n",
    "wikiurl=\"https://en.wikipedia.org/wiki/Gun_laws_in_Oklahoma\"\n",
    "table_class=\"wikitable sortable jquery-tablesorter\"\n",
    "# parse data from the html into a beautifulsoup object\n",
    "soup = BeautifulSoup(response.text, 'html.parser')\n",
    "indiatable=soup.find('table',{'class':\"wikitable\"})\n",
    "dfjj=pd.read_html(str(indiatable))\n",
    "# convert list to dataframe\n",
    "dfjj=pd.DataFrame(dfjj[0])\n",
    "dfjj = dfjj.drop([\"Notes\", \"Relevant Statutes\"], axis=1)\n",
    "#add column for State\n",
    "dfjj['state']='Oklahoma'\n",
    "print(dfjj.head())"
   ]
  },
  {
   "cell_type": "code",
   "execution_count": 59,
   "id": "a030886b",
   "metadata": {},
   "outputs": [
    {
     "name": "stdout",
     "output_type": "stream",
     "text": [
      "                          Subject/Law Long Guns Hand Guns   state\n",
      "0  State permit required to purchase?        No        No  Oregon\n",
      "1               Firearm registration?        No        No  Oregon\n",
      "2                 Assault weapon law?        No        No  Oregon\n",
      "3      Magazine capacity restriction?        No        No  Oregon\n",
      "4             Owner license required?        No        No  Oregon\n"
     ]
    }
   ],
   "source": [
    "# get the response in the form of html\n",
    "wikiurl=\"https://en.wikipedia.org/wiki/Gun_laws_in_Oregon\"\n",
    "table_class=\"wikitable sortable jquery-tablesorter\"\n",
    "# parse data from the html into a beautifulsoup object\n",
    "soup = BeautifulSoup(response.text, 'html.parser')\n",
    "indiatable=soup.find('table',{'class':\"wikitable\"})\n",
    "dfkk=pd.read_html(str(indiatable))\n",
    "# convert list to dataframe\n",
    "dfkk=pd.DataFrame(dfkk[0])\n",
    "dfkk = dfkk.drop([\"Notes\", \"Relevant Statutes\"], axis=1)\n",
    "#add column for State\n",
    "dfkk['state']='Oregon'\n",
    "print(dfkk.head())"
   ]
  },
  {
   "cell_type": "code",
   "execution_count": 60,
   "id": "276f676a",
   "metadata": {},
   "outputs": [
    {
     "name": "stdout",
     "output_type": "stream",
     "text": [
      "                          Subject/Law Long Guns Hand Guns         state\n",
      "0  State permit required to purchase?        No        No  Pennsylvania\n",
      "1               Firearm registration?        No        No  Pennsylvania\n",
      "2                 Assault weapon law?        No        No  Pennsylvania\n",
      "3      Magazine capacity restriction?        No        No  Pennsylvania\n",
      "4             Owner license required?        No        No  Pennsylvania\n"
     ]
    }
   ],
   "source": [
    "# get the response in the form of html\n",
    "wikiurl=\"https://en.wikipedia.org/wiki/Gun_laws_in_Pennsylvania\"\n",
    "table_class=\"wikitable sortable jquery-tablesorter\"\n",
    "# parse data from the html into a beautifulsoup object\n",
    "soup = BeautifulSoup(response.text, 'html.parser')\n",
    "indiatable=soup.find('table',{'class':\"wikitable\"})\n",
    "dfll=pd.read_html(str(indiatable))\n",
    "# convert list to dataframe\n",
    "dfll=pd.DataFrame(dfll[0])\n",
    "dfll = dfll.drop([\"Notes\", \"Relevant Statutes\"], axis=1)\n",
    "#add column for State\n",
    "dfll['state']='Pennsylvania'\n",
    "print(dfll.head())"
   ]
  },
  {
   "cell_type": "code",
   "execution_count": 61,
   "id": "f11f9ca6",
   "metadata": {},
   "outputs": [
    {
     "name": "stdout",
     "output_type": "stream",
     "text": [
      "                          Subject/Law Long Guns Hand Guns         state\n",
      "0  State permit required to purchase?        No        No  Rhode Island\n",
      "1               Firearm registration?        No        No  Rhode Island\n",
      "2                 Assault weapon law?        No        No  Rhode Island\n",
      "3      Magazine capacity restriction?        No        No  Rhode Island\n",
      "4             Owner license required?        No        No  Rhode Island\n"
     ]
    }
   ],
   "source": [
    "# get the response in the form of html\n",
    "wikiurl=\"https://en.wikipedia.org/wiki/Gun_laws_in_Rhode Island\"\n",
    "table_class=\"wikitable sortable jquery-tablesorter\"\n",
    "# parse data from the html into a beautifulsoup object\n",
    "soup = BeautifulSoup(response.text, 'html.parser')\n",
    "indiatable=soup.find('table',{'class':\"wikitable\"})\n",
    "dfmm=pd.read_html(str(indiatable))\n",
    "# convert list to dataframe\n",
    "dfmm=pd.DataFrame(dfmm[0])\n",
    "dfmm = dfmm.drop([\"Notes\", \"Relevant Statutes\"], axis=1)\n",
    "#add column for State\n",
    "dfmm['state']='Rhode Island'\n",
    "print(dfmm.head())"
   ]
  },
  {
   "cell_type": "code",
   "execution_count": 62,
   "id": "9b31e31a",
   "metadata": {},
   "outputs": [
    {
     "name": "stdout",
     "output_type": "stream",
     "text": [
      "                          Subject/Law Long Guns Hand Guns           state\n",
      "0  State permit required to purchase?        No        No  South Carolina\n",
      "1               Firearm registration?        No        No  South Carolina\n",
      "2                 Assault weapon law?        No        No  South Carolina\n",
      "3      Magazine capacity restriction?        No        No  South Carolina\n",
      "4             Owner license required?        No        No  South Carolina\n"
     ]
    }
   ],
   "source": [
    "# get the response in the form of html\n",
    "wikiurl=\"https://en.wikipedia.org/wiki/Gun_laws_in_South Carolina\"\n",
    "table_class=\"wikitable sortable jquery-tablesorter\"\n",
    "# parse data from the html into a beautifulsoup object\n",
    "soup = BeautifulSoup(response.text, 'html.parser')\n",
    "indiatable=soup.find('table',{'class':\"wikitable\"})\n",
    "dfnn=pd.read_html(str(indiatable))\n",
    "# convert list to dataframe\n",
    "dfnn=pd.DataFrame(dfnn[0])\n",
    "dfnn = dfnn.drop([\"Notes\", \"Relevant Statutes\"], axis=1)\n",
    "#add column for State\n",
    "dfnn['state']='South Carolina'\n",
    "print(dfnn.head())"
   ]
  },
  {
   "cell_type": "code",
   "execution_count": 63,
   "id": "30da83f2",
   "metadata": {},
   "outputs": [
    {
     "data": {
      "text/html": [
       "<div>\n",
       "<style scoped>\n",
       "    .dataframe tbody tr th:only-of-type {\n",
       "        vertical-align: middle;\n",
       "    }\n",
       "\n",
       "    .dataframe tbody tr th {\n",
       "        vertical-align: top;\n",
       "    }\n",
       "\n",
       "    .dataframe thead th {\n",
       "        text-align: right;\n",
       "    }\n",
       "</style>\n",
       "<table border=\"1\" class=\"dataframe\">\n",
       "  <thead>\n",
       "    <tr style=\"text-align: right;\">\n",
       "      <th></th>\n",
       "      <th>Subject/Law</th>\n",
       "      <th>Long Guns</th>\n",
       "      <th>Hand Guns</th>\n",
       "      <th>state</th>\n",
       "    </tr>\n",
       "  </thead>\n",
       "  <tbody>\n",
       "    <tr>\n",
       "      <th>0</th>\n",
       "      <td>State permit required to purchase?</td>\n",
       "      <td>No</td>\n",
       "      <td>No</td>\n",
       "      <td>New Mexico</td>\n",
       "    </tr>\n",
       "    <tr>\n",
       "      <th>1</th>\n",
       "      <td>Firearm registration?</td>\n",
       "      <td>No</td>\n",
       "      <td>No</td>\n",
       "      <td>New Mexico</td>\n",
       "    </tr>\n",
       "    <tr>\n",
       "      <th>2</th>\n",
       "      <td>Assault weapon law?</td>\n",
       "      <td>No</td>\n",
       "      <td>No</td>\n",
       "      <td>New Mexico</td>\n",
       "    </tr>\n",
       "    <tr>\n",
       "      <th>3</th>\n",
       "      <td>Magazine capacity restriction?</td>\n",
       "      <td>No</td>\n",
       "      <td>No</td>\n",
       "      <td>New Mexico</td>\n",
       "    </tr>\n",
       "    <tr>\n",
       "      <th>4</th>\n",
       "      <td>Owner license required?</td>\n",
       "      <td>No</td>\n",
       "      <td>No</td>\n",
       "      <td>New Mexico</td>\n",
       "    </tr>\n",
       "  </tbody>\n",
       "</table>\n",
       "</div>"
      ],
      "text/plain": [
       "                          Subject/Law Long Guns Hand Guns       state\n",
       "0  State permit required to purchase?        No        No  New Mexico\n",
       "1               Firearm registration?        No        No  New Mexico\n",
       "2                 Assault weapon law?        No        No  New Mexico\n",
       "3      Magazine capacity restriction?        No        No  New Mexico\n",
       "4             Owner license required?        No        No  New Mexico"
      ]
     },
     "execution_count": 63,
     "metadata": {},
     "output_type": "execute_result"
    }
   ],
   "source": [
    "df4=pd.concat([dfee,dfff,dfgg,dfhh,dfii,dfjj,dfkk,dfll,dfmm,dfnn], axis=0)\n",
    "df4.head()"
   ]
  },
  {
   "cell_type": "code",
   "execution_count": 64,
   "id": "fe82d396",
   "metadata": {},
   "outputs": [
    {
     "name": "stdout",
     "output_type": "stream",
     "text": [
      "                          Subject/Law Long Guns Hand Guns         state\n",
      "0  State permit required to purchase?        No        No  South Dakota\n",
      "1               Firearm registration?        No        No  South Dakota\n",
      "2                 Assault weapon law?        No        No  South Dakota\n",
      "3      Magazine capacity restriction?        No        No  South Dakota\n",
      "4             Owner license required?        No        No  South Dakota\n"
     ]
    }
   ],
   "source": [
    "# get the response in the form of html\n",
    "wikiurl=\"https://en.wikipedia.org/wiki/Gun_laws_in_South Dakota\"\n",
    "table_class=\"wikitable sortable jquery-tablesorter\"\n",
    "# parse data from the html into a beautifulsoup object\n",
    "soup = BeautifulSoup(response.text, 'html.parser')\n",
    "indiatable=soup.find('table',{'class':\"wikitable\"})\n",
    "dfoo=pd.read_html(str(indiatable))\n",
    "# convert list to dataframe\n",
    "dfoo=pd.DataFrame(dfoo[0])\n",
    "dfoo = dfoo.drop([\"Notes\", \"Relevant Statutes\"], axis=1)\n",
    "#add column for State\n",
    "dfoo['state']='South Dakota'\n",
    "print(dfoo.head())"
   ]
  },
  {
   "cell_type": "code",
   "execution_count": 65,
   "id": "b59e843c",
   "metadata": {},
   "outputs": [
    {
     "name": "stdout",
     "output_type": "stream",
     "text": [
      "                          Subject/Law Long Guns Hand Guns      state\n",
      "0  State permit required to purchase?        No        No  Tennessee\n",
      "1               Firearm registration?        No        No  Tennessee\n",
      "2                 Assault weapon law?        No        No  Tennessee\n",
      "3      Magazine capacity restriction?        No        No  Tennessee\n",
      "4             Owner license required?        No        No  Tennessee\n"
     ]
    }
   ],
   "source": [
    "# get the response in the form of html\n",
    "wikiurl=\"https://en.wikipedia.org/wiki/Gun_laws_in_Tennessee\"\n",
    "table_class=\"wikitable sortable jquery-tablesorter\"\n",
    "# parse data from the html into a beautifulsoup object\n",
    "soup = BeautifulSoup(response.text, 'html.parser')\n",
    "indiatable=soup.find('table',{'class':\"wikitable\"})\n",
    "dfpp=pd.read_html(str(indiatable))\n",
    "# convert list to dataframe\n",
    "dfpp=pd.DataFrame(dfpp[0])\n",
    "dfpp = dfpp.drop([\"Notes\", \"Relevant Statutes\"], axis=1)\n",
    "#add column for State\n",
    "dfpp['state']='Tennessee'\n",
    "print(dfpp.head())"
   ]
  },
  {
   "cell_type": "code",
   "execution_count": 66,
   "id": "1a30b611",
   "metadata": {},
   "outputs": [
    {
     "name": "stdout",
     "output_type": "stream",
     "text": [
      "                          Subject/Law Long Guns Hand Guns  state\n",
      "0  State permit required to purchase?        No        No  Texas\n",
      "1               Firearm registration?        No        No  Texas\n",
      "2                 Assault weapon law?        No        No  Texas\n",
      "3      Magazine capacity restriction?        No        No  Texas\n",
      "4             Owner license required?        No        No  Texas\n"
     ]
    }
   ],
   "source": [
    "# get the response in the form of html\n",
    "wikiurl=\"https://en.wikipedia.org/wiki/Gun_laws_in_Texas\"\n",
    "table_class=\"wikitable sortable jquery-tablesorter\"\n",
    "# parse data from the html into a beautifulsoup object\n",
    "soup = BeautifulSoup(response.text, 'html.parser')\n",
    "indiatable=soup.find('table',{'class':\"wikitable\"})\n",
    "dfqq=pd.read_html(str(indiatable))\n",
    "# convert list to dataframe\n",
    "dfqq=pd.DataFrame(dfqq[0])\n",
    "dfqq = dfqq.drop([\"Notes\", \"Relevant Statutes\"], axis=1)\n",
    "#add column for State\n",
    "dfqq['state']='Texas'\n",
    "print(dfqq.head())"
   ]
  },
  {
   "cell_type": "code",
   "execution_count": 67,
   "id": "7f15a760",
   "metadata": {},
   "outputs": [
    {
     "name": "stdout",
     "output_type": "stream",
     "text": [
      "                          Subject/Law Long Guns Hand Guns state\n",
      "0  State permit required to purchase?        No        No  Utah\n",
      "1               Firearm registration?        No        No  Utah\n",
      "2                 Assault weapon law?        No        No  Utah\n",
      "3      Magazine capacity restriction?        No        No  Utah\n",
      "4             Owner license required?        No        No  Utah\n"
     ]
    }
   ],
   "source": [
    "# get the response in the form of html\n",
    "wikiurl=\"https://en.wikipedia.org/wiki/Gun_laws_in_Utah\"\n",
    "table_class=\"wikitable sortable jquery-tablesorter\"\n",
    "# parse data from the html into a beautifulsoup object\n",
    "soup = BeautifulSoup(response.text, 'html.parser')\n",
    "indiatable=soup.find('table',{'class':\"wikitable\"})\n",
    "dfrr=pd.read_html(str(indiatable))\n",
    "# convert list to dataframe\n",
    "dfrr=pd.DataFrame(dfrr[0])\n",
    "dfrr = dfrr.drop([\"Notes\", \"Relevant Statutes\"], axis=1)\n",
    "#add column for State\n",
    "dfrr['state']='Utah'\n",
    "print(dfrr.head())"
   ]
  },
  {
   "cell_type": "code",
   "execution_count": 68,
   "id": "12c71902",
   "metadata": {},
   "outputs": [
    {
     "name": "stdout",
     "output_type": "stream",
     "text": [
      "                          Subject/Law Long Guns Hand Guns    state\n",
      "0  State permit required to purchase?        No        No  Vermont\n",
      "1               Firearm registration?        No        No  Vermont\n",
      "2                 Assault weapon law?        No        No  Vermont\n",
      "3      Magazine capacity restriction?        No        No  Vermont\n",
      "4             Owner license required?        No        No  Vermont\n"
     ]
    }
   ],
   "source": [
    "# get the response in the form of html\n",
    "wikiurl=\"https://en.wikipedia.org/wiki/Gun_laws_in_Vermont\"\n",
    "table_class=\"wikitable sortable jquery-tablesorter\"\n",
    "# parse data from the html into a beautifulsoup object\n",
    "soup = BeautifulSoup(response.text, 'html.parser')\n",
    "indiatable=soup.find('table',{'class':\"wikitable\"})\n",
    "dfss=pd.read_html(str(indiatable))\n",
    "# convert list to dataframe\n",
    "dfss=pd.DataFrame(dfss[0])\n",
    "dfss = dfss.drop([\"Notes\", \"Relevant Statutes\"], axis=1)\n",
    "#add column for State\n",
    "dfss['state']='Vermont'\n",
    "print(dfss.head())"
   ]
  },
  {
   "cell_type": "code",
   "execution_count": 69,
   "id": "5da44fa7",
   "metadata": {},
   "outputs": [
    {
     "name": "stdout",
     "output_type": "stream",
     "text": [
      "                          Subject/Law Long Guns Hand Guns     state\n",
      "0  State permit required to purchase?        No        No  Virginia\n",
      "1               Firearm registration?        No        No  Virginia\n",
      "2                 Assault weapon law?        No        No  Virginia\n",
      "3      Magazine capacity restriction?        No        No  Virginia\n",
      "4             Owner license required?        No        No  Virginia\n"
     ]
    }
   ],
   "source": [
    "# get the response in the form of html\n",
    "wikiurl=\"https://en.wikipedia.org/wiki/Gun_laws_in_Virginia\"\n",
    "table_class=\"wikitable sortable jquery-tablesorter\"\n",
    "# parse data from the html into a beautifulsoup object\n",
    "soup = BeautifulSoup(response.text, 'html.parser')\n",
    "indiatable=soup.find('table',{'class':\"wikitable\"})\n",
    "dftt=pd.read_html(str(indiatable))\n",
    "# convert list to dataframe\n",
    "dftt=pd.DataFrame(dftt[0])\n",
    "dftt = dftt.drop([\"Notes\", \"Relevant Statutes\"], axis=1)\n",
    "#add column for State\n",
    "dftt['state']='Virginia'\n",
    "print(dftt.head())"
   ]
  },
  {
   "cell_type": "code",
   "execution_count": 70,
   "id": "3a696293",
   "metadata": {},
   "outputs": [
    {
     "name": "stdout",
     "output_type": "stream",
     "text": [
      "                          Subject/Law Long Guns Hand Guns       state\n",
      "0  State permit required to purchase?        No        No  Washington\n",
      "1               Firearm registration?        No        No  Washington\n",
      "2                 Assault weapon law?        No        No  Washington\n",
      "3      Magazine capacity restriction?        No        No  Washington\n",
      "4             Owner license required?        No        No  Washington\n"
     ]
    }
   ],
   "source": [
    "# get the response in the form of html\n",
    "wikiurl=\"https://en.wikipedia.org/wiki/Gun_laws_in_Washington\"\n",
    "table_class=\"wikitable sortable jquery-tablesorter\"\n",
    "# parse data from the html into a beautifulsoup object\n",
    "soup = BeautifulSoup(response.text, 'html.parser')\n",
    "indiatable=soup.find('table',{'class':\"wikitable\"})\n",
    "dfuu=pd.read_html(str(indiatable))\n",
    "# convert list to dataframe\n",
    "dfuu=pd.DataFrame(dfuu[0])\n",
    "dfuu = dfuu.drop([\"Notes\", \"Relevant Statutes\"], axis=1)\n",
    "#add column for State\n",
    "dfuu['state']='Washington'\n",
    "print(dfuu.head())"
   ]
  },
  {
   "cell_type": "code",
   "execution_count": 71,
   "id": "a3df0c44",
   "metadata": {},
   "outputs": [
    {
     "name": "stdout",
     "output_type": "stream",
     "text": [
      "                          Subject/Law Long Guns Hand Guns          state\n",
      "0  State permit required to purchase?        No        No  West Virginia\n",
      "1               Firearm registration?        No        No  West Virginia\n",
      "2                 Assault weapon law?        No        No  West Virginia\n",
      "3      Magazine capacity restriction?        No        No  West Virginia\n",
      "4             Owner license required?        No        No  West Virginia\n"
     ]
    }
   ],
   "source": [
    "# get the response in the form of html\n",
    "wikiurl=\"https://en.wikipedia.org/wiki/Gun_laws_in_West Virginia\"\n",
    "table_class=\"wikitable sortable jquery-tablesorter\"\n",
    "# parse data from the html into a beautifulsoup object\n",
    "soup = BeautifulSoup(response.text, 'html.parser')\n",
    "indiatable=soup.find('table',{'class':\"wikitable\"})\n",
    "dfvv=pd.read_html(str(indiatable))\n",
    "# convert list to dataframe\n",
    "dfvv=pd.DataFrame(dfvv[0])\n",
    "dfvv = dfvv.drop([\"Notes\", \"Relevant Statutes\"], axis=1)\n",
    "#add column for State\n",
    "dfvv['state']='West Virginia'\n",
    "print(dfvv.head())"
   ]
  },
  {
   "cell_type": "code",
   "execution_count": 72,
   "id": "4ca32e38",
   "metadata": {},
   "outputs": [
    {
     "name": "stdout",
     "output_type": "stream",
     "text": [
      "                          Subject/Law Long Guns Hand Guns      state\n",
      "0  State permit required to purchase?        No        No  Wisconsin\n",
      "1               Firearm registration?        No        No  Wisconsin\n",
      "2                 Assault weapon law?        No        No  Wisconsin\n",
      "3      Magazine capacity restriction?        No        No  Wisconsin\n",
      "4             Owner license required?        No        No  Wisconsin\n"
     ]
    }
   ],
   "source": [
    "# get the response in the form of html\n",
    "wikiurl=\"https://en.wikipedia.org/wiki/Gun_laws_in_Wisconsin\"\n",
    "table_class=\"wikitable sortable jquery-tablesorter\"\n",
    "# parse data from the html into a beautifulsoup object\n",
    "soup = BeautifulSoup(response.text, 'html.parser')\n",
    "indiatable=soup.find('table',{'class':\"wikitable\"})\n",
    "dfww=pd.read_html(str(indiatable))\n",
    "# convert list to dataframe\n",
    "dfww=pd.DataFrame(dfww[0])\n",
    "dfww = dfww.drop([\"Notes\", \"Relevant Statutes\"], axis=1)\n",
    "#add column for State\n",
    "dfww['state']='Wisconsin'\n",
    "print(dfww.head())"
   ]
  },
  {
   "cell_type": "code",
   "execution_count": 73,
   "id": "834f9007",
   "metadata": {},
   "outputs": [
    {
     "name": "stdout",
     "output_type": "stream",
     "text": [
      "                          Subject/Law Long Guns Hand Guns    state\n",
      "0  State permit required to purchase?        No        No  Wyoming\n",
      "1               Firearm registration?        No        No  Wyoming\n",
      "2                 Assault weapon law?        No        No  Wyoming\n",
      "3      Magazine capacity restriction?        No        No  Wyoming\n",
      "4             Owner license required?        No        No  Wyoming\n"
     ]
    }
   ],
   "source": [
    "# get the response in the form of html\n",
    "wikiurl=\"https://en.wikipedia.org/wiki/Gun_laws_in_Wyoming\"\n",
    "table_class=\"wikitable sortable jquery-tablesorter\"\n",
    "# parse data from the html into a beautifulsoup object\n",
    "soup = BeautifulSoup(response.text, 'html.parser')\n",
    "indiatable=soup.find('table',{'class':\"wikitable\"})\n",
    "dfxx=pd.read_html(str(indiatable))\n",
    "# convert list to dataframe\n",
    "dfxx=pd.DataFrame(dfxx[0])\n",
    "dfxx = dfxx.drop([\"Notes\", \"Relevant Statutes\"], axis=1)\n",
    "#add column for State\n",
    "dfxx['state']='Wyoming'\n",
    "print(dfxx.head())"
   ]
  },
  {
   "cell_type": "code",
   "execution_count": 74,
   "id": "56bbc02c",
   "metadata": {},
   "outputs": [
    {
     "data": {
      "text/html": [
       "<div>\n",
       "<style scoped>\n",
       "    .dataframe tbody tr th:only-of-type {\n",
       "        vertical-align: middle;\n",
       "    }\n",
       "\n",
       "    .dataframe tbody tr th {\n",
       "        vertical-align: top;\n",
       "    }\n",
       "\n",
       "    .dataframe thead th {\n",
       "        text-align: right;\n",
       "    }\n",
       "</style>\n",
       "<table border=\"1\" class=\"dataframe\">\n",
       "  <thead>\n",
       "    <tr style=\"text-align: right;\">\n",
       "      <th></th>\n",
       "      <th>Subject/Law</th>\n",
       "      <th>Long Guns</th>\n",
       "      <th>Hand Guns</th>\n",
       "      <th>state</th>\n",
       "    </tr>\n",
       "  </thead>\n",
       "  <tbody>\n",
       "    <tr>\n",
       "      <th>0</th>\n",
       "      <td>State permit required to purchase?</td>\n",
       "      <td>No</td>\n",
       "      <td>No</td>\n",
       "      <td>South Dakota</td>\n",
       "    </tr>\n",
       "    <tr>\n",
       "      <th>1</th>\n",
       "      <td>Firearm registration?</td>\n",
       "      <td>No</td>\n",
       "      <td>No</td>\n",
       "      <td>South Dakota</td>\n",
       "    </tr>\n",
       "    <tr>\n",
       "      <th>2</th>\n",
       "      <td>Assault weapon law?</td>\n",
       "      <td>No</td>\n",
       "      <td>No</td>\n",
       "      <td>South Dakota</td>\n",
       "    </tr>\n",
       "    <tr>\n",
       "      <th>3</th>\n",
       "      <td>Magazine capacity restriction?</td>\n",
       "      <td>No</td>\n",
       "      <td>No</td>\n",
       "      <td>South Dakota</td>\n",
       "    </tr>\n",
       "    <tr>\n",
       "      <th>4</th>\n",
       "      <td>Owner license required?</td>\n",
       "      <td>No</td>\n",
       "      <td>No</td>\n",
       "      <td>South Dakota</td>\n",
       "    </tr>\n",
       "  </tbody>\n",
       "</table>\n",
       "</div>"
      ],
      "text/plain": [
       "                          Subject/Law Long Guns Hand Guns         state\n",
       "0  State permit required to purchase?        No        No  South Dakota\n",
       "1               Firearm registration?        No        No  South Dakota\n",
       "2                 Assault weapon law?        No        No  South Dakota\n",
       "3      Magazine capacity restriction?        No        No  South Dakota\n",
       "4             Owner license required?        No        No  South Dakota"
      ]
     },
     "execution_count": 74,
     "metadata": {},
     "output_type": "execute_result"
    }
   ],
   "source": [
    "df5=pd.concat([dfoo,dfpp,dfqq,dfrr,dfss,dftt,dfuu,dfvv,dfww,dfxx], axis=0)\n",
    "df5.head()"
   ]
  },
  {
   "cell_type": "code",
   "execution_count": 75,
   "id": "3983bd42",
   "metadata": {},
   "outputs": [
    {
     "data": {
      "text/html": [
       "<div>\n",
       "<style scoped>\n",
       "    .dataframe tbody tr th:only-of-type {\n",
       "        vertical-align: middle;\n",
       "    }\n",
       "\n",
       "    .dataframe tbody tr th {\n",
       "        vertical-align: top;\n",
       "    }\n",
       "\n",
       "    .dataframe thead th {\n",
       "        text-align: right;\n",
       "    }\n",
       "</style>\n",
       "<table border=\"1\" class=\"dataframe\">\n",
       "  <thead>\n",
       "    <tr style=\"text-align: right;\">\n",
       "      <th></th>\n",
       "      <th>Subject/Law</th>\n",
       "      <th>Long Guns</th>\n",
       "      <th>Hand Guns</th>\n",
       "      <th>state</th>\n",
       "    </tr>\n",
       "  </thead>\n",
       "  <tbody>\n",
       "    <tr>\n",
       "      <th>0</th>\n",
       "      <td>State permit required to purchase?</td>\n",
       "      <td>No</td>\n",
       "      <td>No</td>\n",
       "      <td>Alabama</td>\n",
       "    </tr>\n",
       "    <tr>\n",
       "      <th>1</th>\n",
       "      <td>Firearm registration?</td>\n",
       "      <td>No</td>\n",
       "      <td>No</td>\n",
       "      <td>Alabama</td>\n",
       "    </tr>\n",
       "    <tr>\n",
       "      <th>2</th>\n",
       "      <td>Assault weapon law?</td>\n",
       "      <td>No</td>\n",
       "      <td>No</td>\n",
       "      <td>Alabama</td>\n",
       "    </tr>\n",
       "    <tr>\n",
       "      <th>3</th>\n",
       "      <td>Magazine capacity restriction?</td>\n",
       "      <td>No</td>\n",
       "      <td>No</td>\n",
       "      <td>Alabama</td>\n",
       "    </tr>\n",
       "    <tr>\n",
       "      <th>4</th>\n",
       "      <td>Owner license required?</td>\n",
       "      <td>No</td>\n",
       "      <td>No</td>\n",
       "      <td>Alabama</td>\n",
       "    </tr>\n",
       "  </tbody>\n",
       "</table>\n",
       "</div>"
      ],
      "text/plain": [
       "                          Subject/Law Long Guns Hand Guns    state\n",
       "0  State permit required to purchase?        No        No  Alabama\n",
       "1               Firearm registration?        No        No  Alabama\n",
       "2                 Assault weapon law?        No        No  Alabama\n",
       "3      Magazine capacity restriction?        No        No  Alabama\n",
       "4             Owner license required?        No        No  Alabama"
      ]
     },
     "execution_count": 75,
     "metadata": {},
     "output_type": "execute_result"
    }
   ],
   "source": [
    "df=pd.concat([df1,df2,df3,df4,df5], axis=0)\n",
    "df.head()"
   ]
  },
  {
   "cell_type": "code",
   "execution_count": 76,
   "id": "b5575d02",
   "metadata": {},
   "outputs": [],
   "source": [
    "#export to csv\n",
    "df.to_csv('./resources/gun_policy_scrape.csv')"
   ]
  },
  {
   "cell_type": "code",
   "execution_count": null,
   "id": "34084b68",
   "metadata": {},
   "outputs": [],
   "source": []
  }
 ],
 "metadata": {
  "kernelspec": {
   "display_name": "Python [conda env:root] *",
   "language": "python",
   "name": "conda-root-py"
  },
  "language_info": {
   "codemirror_mode": {
    "name": "ipython",
    "version": 3
   },
   "file_extension": ".py",
   "mimetype": "text/x-python",
   "name": "python",
   "nbconvert_exporter": "python",
   "pygments_lexer": "ipython3",
   "version": "3.9.12"
  }
 },
 "nbformat": 4,
 "nbformat_minor": 5
}
